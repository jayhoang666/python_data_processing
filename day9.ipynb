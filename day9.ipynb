{
 "cells": [
  {
   "cell_type": "code",
   "execution_count": null,
   "metadata": {},
   "outputs": [],
   "source": [
    "import re\n",
    "fhandle = open('regex_sum_247544.txt')#returns a handle\n",
    "content = fhandle.read()\n",
    "numbers = re.findall('[0-9]+', content)\n",
    "\n",
    "#numbers是一个由findall返回的list,里面的每个元素是一个string\n",
    "#re.findall() returns a list, every elements in the list is a string\n",
    "#string类型的元素不能用sum()函数直接求和,所以有以下三种方式实现先转换(成int)再求和\n",
    "#we cannot use sum() to sum a string directly\n",
    "#We'll use the following 3 methods to convert the string to int type \n",
    "#and then sum them\n",
    "\n",
    "#方法1：用for循环实现求和：先把numbers这个list里的每个元素转成int,再逐个相加\n",
    "#Method1：using a for loop to sum all elements in numbers (numbers is a list): \n",
    "#         first convert each element into int type, and sum them one by one\n",
    "sum_number = 0\n",
    "for num in numbers:\n",
    "    num = int(num)\n",
    "    sum_number = sum_number+num\n",
    "print sum_number\n",
    "\n",
    "#方法二：先使用for循环把numbers里的每个元素变成int类型,然后用[]把这些元素放到一个list里\n",
    "#      这里的for循环每个iteration里是访问list的每个元素\n",
    "#Method 2:We can use for loop to look through every element in the list\n",
    "#convert every element to int type, and put the int type element to a new list\n",
    "#now the new list int_number is a list with every one in it is a int type element\n",
    "int_numbers = [int(num) for num in numbers]\n",
    "sum_number = sum (int_numbers)\n",
    "print sum_number  \n",
    "\n",
    "#方法三：先使用for循环把numbers里的每个元素变成int类型,然后直接覆盖原来对应位置的元素\n",
    "#      这里的for循环每个iteration里是访问list的元素下标\n",
    "#Method 3: convert each element of a list by index in the for loop\n",
    "#Using the index of the list to find every string elements \n",
    "#in the original list, convert them to a int type one\n",
    "#and replace the string elements by the int type elements correspondingly\n",
    "#Here the [i] is the index of the list\n",
    "\n",
    "\n",
    "for i in range(len(numbers)):\n",
    "    numbers[i] = int(numbers[i])\n",
    "sum_number = sum (numbers)\n",
    "print sum_number  "
   ]
  },
  {
   "cell_type": "code",
   "execution_count": null,
   "metadata": {},
   "outputs": [],
   "source": [
    "#^\tMatches the beginning of a line\n",
    "#$\tMatches the end of the line\n",
    "#.\tMatches any character\n",
    "#\\s\tMatches whitespace\n",
    "#\\S\tMatches any non-whitespace character\n",
    "#*\tRepeats a character zero or more times\n",
    "#*?\tRepeats a character zero or more times (non-greedy)\n",
    "#+\tRepeats a character one or more times\n",
    "#+?\tRepeats a character one or more times (non-greedy)\n",
    "#[aeiou]\tMatches a single character in the listed set\n",
    "#[^XYZ]\tMatches a single character not in the listed set\n",
    "#[a-z0-9]\tThe set of characters can include a range\n",
    "#(\tIndicates where string extraction is to start\n",
    "#)\tIndicates where string extraction is to end"
   ]
  }
 ],
 "metadata": {
  "kernelspec": {
   "display_name": "Python 3",
   "language": "python",
   "name": "python3"
  }
 },
 "nbformat": 4,
 "nbformat_minor": 2
}
