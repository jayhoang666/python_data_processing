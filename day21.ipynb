{
 "cells": [
  {
   "cell_type": "code",
   "execution_count": null,
   "metadata": {},
   "outputs": [],
   "source": [
    "#INSTRUCTIONS\n",
    "#This application will read roster data in JSON format, parse the file, and \n",
    "#then produce an SQLite database that contains a User, Course, and Member \n",
    "#table and populate the tables from the data file.\n",
    "#You can base your solution on this code: \n",
    "#http://www.pythonlearn.com/code/roster.py - this code is incomplete as you\n",
    "#need to modify the program to store the role column in the Member table to\n",
    "#complete the assignment.\n",
    "#Each student gets their own file for the assignment. Download this file \n",
    "#(https://pr4e.dr-chuck.com/tsugi/mod/sql-intro/roster_data.php?PHPSESSID=ac66d3b8dbd59e2dcfee8c24b15c25b9)\n",
    "#and save it as roster_data.json. Move the downloaded file into the same \n",
    "#folder as your roster.py program.\n",
    "#Once you have made the necessary changes to the program and it has been run \n",
    "#successfully reading the above JSON data, run the following SQL command:\n",
    "#SELECT hex(User.name || Course.title || Member.role ) AS X FROM \n",
    "#    User JOIN Member JOIN Course \n",
    "#    ON User.id = Member.user_id AND Member.course_id = Course.id\n",
    "#    ORDER BY X\n",
    "#Find the first row in the resulting record set and enter the long string that\n",
    "#looks like 53656C696E613333. \n",
    "#\"\"\""
   ]
  },
  {
   "cell_type": "code",
   "execution_count": null,
   "metadata": {},
   "outputs": [],
   "source": [
    "import json\n",
    "import ssl\n",
    "import urllib.request, urllib.error, urllib.parse\n",
    "import sqlite3\n",
    "\n",
    "ctx = ssl.create_default_context()\n",
    "ctx.check_hostname = False\n",
    "ctx.verify_mode = ssl.CERT_NONE\n",
    "\n",
    "conn = sqlite3.connect('hex')\n",
    "cur = conn.cursor()\n",
    "\n",
    "cur.executescript('''\n",
    "DROP TABLE IF EXISTS Users;\n",
    "\n",
    "DROP TABLE IF EXISTS Courses;\n",
    "\n",
    "DROP TABLE IF EXISTS Member;\n",
    "\n",
    "CREATE TABLE IF NOT EXISTS Users(id INTEGER PRIMARY KEY AUTOINCREMENT, \n",
    "            name TEXT UNIQUE);\n",
    "CREATE TABLE IF NOT EXISTS Courses(id INTEGER PRIMARY KEY AUTOINCREMENT,\n",
    "            title TEXT UNIQUE);\n",
    "CREATE TABLE IF NOT EXISTS Member(Users_id INTEGER, Courses_id INTEGER, \n",
    "            role INTEGER, PRIMARY KEY(Users_id, Courses_id))\n",
    "''')\n",
    "raw_data = open('roster_data_sample.json').read()\n",
    "try:\n",
    "    js = json.loads(raw_data)\n",
    "\n",
    "except:\n",
    "    print('Fali to retrieve json')\n",
    "for u in js:\n",
    "    nm = u[0]\n",
    "    cur.execute('''SELECT id FROM Users WHERE name = ?''', (nm, ))\n",
    "    try:\n",
    "        Users_id = cur.fetchone()[0]\n",
    "    except:\n",
    "        cur.execute('''INSERT OR IGNORE INTO Users (name) VALUES (?)''', (nm, ))\n",
    "        Users_id = cur.lastrowid\n",
    "    tt = u[1]   \n",
    "    cur.execute('''SELECT id FROM Courses WHERE title = ?''', (tt, ))\n",
    "    try:\n",
    "        Courses_id = cur.fetchone()[0]\n",
    "    except:     \n",
    "        cur.execute('''INSERT OR IGNORE INTO Courses (title) VALUES(?)''', (tt, ))\n",
    "        Courses_id = cur.lastrowid\n",
    "    rl = u[2]\n",
    "    cur.execute('''INSERT OR REPLACE INTO Member (role, Users_id, Courses_id) VALUES (?,?,?)''', (rl, Users_id, Courses_id))\n",
    "    conn.commit()\n",
    "\n",
    "cur.close()\n",
    "conn.close()\n",
    "\n"
   ]
  },
  {
   "cell_type": "code",
   "execution_count": null,
   "metadata": {},
   "outputs": [],
   "source": [
    "print('hello world')"
   ]
  },
  {
   "cell_type": "code",
   "execution_count": null,
   "metadata": {},
   "outputs": [],
   "source": []
  }
 ],
 "metadata": {
  "kernelspec": {
   "display_name": "Python 3",
   "language": "python",
   "name": "python3"
  },
  "language_info": {
   "codemirror_mode": {
    "name": "ipython",
    "version": 3
   },
   "file_extension": ".py",
   "mimetype": "text/x-python",
   "name": "python",
   "nbconvert_exporter": "python",
   "pygments_lexer": "ipython3",
   "version": "3.7.2"
  }
 },
 "nbformat": 4,
 "nbformat_minor": 2
}
