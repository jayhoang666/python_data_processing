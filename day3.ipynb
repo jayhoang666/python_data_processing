{
 "cells": [
  {
   "cell_type": "code",
   "execution_count": null,
   "metadata": {
    "collapsed": true
   },
   "outputs": [],
   "source": [
    "# Input a list of intergers and find largest and the smallest\n",
    "# Enter done to finish the input process\n",
    "# use try&expect to catch other invalid value\n",
    "largest = None\n",
    "smallest = None\n",
    "while True:\n",
    "    raw_num = input(\"Enter a number: \")\n",
    "    if raw_num == \"done\" : break    \n",
    "    try:\n",
    "        num = int(raw_num)\n",
    "    except:\n",
    "        print('Invalid input')\n",
    "        continue\n",
    "    if largest == None and smallest == None:\n",
    "        largest = num\n",
    "        smallest = num            \n",
    "    elif largest < num:\n",
    "        largest = num\n",
    "    elif smallest > num:\n",
    "        smallest = num\n",
    "        \n",
    "print('Maximum is', largest)\n",
    "print('Minimum is', smallest)"
   ]
  }
 ],
 "metadata": {
  "kernelspec": {
   "display_name": "Python 2",
   "language": "python",
   "name": "python2"
  },
  "language_info": {
   "codemirror_mode": {
    "name": "ipython",
    "version": 2
   },
   "file_extension": ".py",
   "mimetype": "text/x-python",
   "name": "python",
   "nbconvert_exporter": "python",
   "pygments_lexer": "ipython2",
   "version": "2.7.6"
  }
 },
 "nbformat": 4,
 "nbformat_minor": 0
}
