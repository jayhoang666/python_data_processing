{
 "cells": [
  {
   "cell_type": "code",
   "execution_count": null,
   "metadata": {},
   "outputs": [],
   "source": [
    "# Payment calculation\n",
    "hrs = input('Enter hours')\n",
    "Rate = input('Enter a rate')\n",
    "Pay = float(Rate)*float(hrs)\n",
    "print('Pay:', Pay)"
   ]
  },
  {
   "cell_type": "code",
   "execution_count": null,
   "metadata": {},
   "outputs": [],
   "source": [
    "# Try/except\n",
    "rawstr = input('Enter a number:')\n",
    "try:\n",
    "    ival = int(rawstr)\n",
    "except:\n",
    "    ival = -1\n",
    "if ival > 0:\n",
    "    print('Nice work')\n",
    "else:\n",
    "    print('Not a number’)"
   ]
  },
  {
   "cell_type": "code",
   "execution_count": null,
   "metadata": {},
   "outputs": [],
   "source": [
    "# Conditional Payment Calculation\n",
    "hrs = input(\"Enter Hours:\")\n",
    "h = float(hrs) \n",
    "rate = input(\"Enter Rate:\")\n",
    "r = float(rate)\n",
    "if h < 40:\n",
    "  Pay = h*r\n",
    "  print(Pay)\n",
    "else:     \n",
    "  Pay = 40*r + (h-40)*1.5*r\n",
    "  print(Pay)"
   ]
  },
  {
   "cell_type": "code",
   "execution_count": 1,
   "metadata": {},
   "outputs": [
    {
     "name": "stdout",
     "output_type": "stream",
     "text": [
      "Enter Hours:45\n",
      "Enter Rate:25\n",
      "1187.5\n"
     ]
    }
   ],
   "source": [
    "# Advanced Conditional Payment Calculation(involve try&except\n",
    "#to make continue the running instead of stopping it)\n",
    "hrs = input(\"Enter Hours:\")\n",
    "rate = input(\"Enter Rate:\")\n",
    "try:\n",
    "  h = float(hrs)   \n",
    "  r = float(rate)\n",
    "except:\n",
    "  print('Please Enter a numeric number:')\n",
    "  quit()\n",
    "    \n",
    "if h < 40:\n",
    "  Pay = h*r\n",
    "  print(Pay)\n",
    "else:     \n",
    "  Pay = 40*r + (h-40)*1.5*r\n",
    "  print(Pay)"
   ]
  },
  {
   "cell_type": "code",
   "execution_count": null,
   "metadata": {},
   "outputs": [],
   "source": [
    "# Score valuation systems    \n",
    "score = input(\"Enter Score: \")\n",
    "try:\n",
    "  score = float(score)\n",
    "except:\n",
    "  print('Please enter a numeric number!!!!')\n",
    "  quit()    \n",
    "if score > 1.0 or score < 0.0:\n",
    "  print('Your input is out of range\\\n",
    "  , please try again')\n",
    "elif score >=0.9:     \n",
    "  print('A')\n",
    "elif score >=0.8:  \n",
    "  print('B')\n",
    "elif score >=0.7:\n",
    "  print('C')\n",
    "elif score >=0.6:\n",
    "  print('D')\n",
    "elif score <0.6:\n",
    "  print('F’)"
   ]
  },
  {
   "cell_type": "code",
   "execution_count": 16,
   "metadata": {},
   "outputs": [
    {
     "ename": "SyntaxError",
     "evalue": "invalid syntax (<ipython-input-16-80e2b075aea3>, line 1)",
     "traceback": [
      "\u001b[0;36m  File \u001b[0;32m\"<ipython-input-16-80e2b075aea3>\"\u001b[0;36m, line \u001b[0;32m1\u001b[0m\n\u001b[0;31m    type(try:)\u001b[0m\n\u001b[0m           ^\u001b[0m\n\u001b[0;31mSyntaxError\u001b[0m\u001b[0;31m:\u001b[0m invalid syntax\n"
     ],
     "output_type": "error"
    }
   ],
   "source": []
  },
  {
   "cell_type": "code",
   "execution_count": null,
   "metadata": {},
   "outputs": [],
   "source": [
    "# Building A Greeting Function\n",
    "def greet(character):\n",
    "  if character == 'grandma':\n",
    "    return'ama leho'\n",
    "  elif character == 'grandpa':\n",
    "    return 'agong leho'\n",
    "  else:\n",
    "    return 'Gonghihuatchai'\n",
    "print(greet('grandma'),'ama’)"
   ]
  },
  {
   "cell_type": "code",
   "execution_count": 6,
   "metadata": {},
   "outputs": [
    {
     "name": "stdout",
     "output_type": "stream",
     "text": [
      "Enter Hours:45\n",
      "Enter rate:10.25\n",
      "486.875\n"
     ]
    }
   ],
   "source": [
    "# Building a gross-pay cal function\n",
    "hrs = input('Enter Hours:')\n",
    "h = float(hrs)\n",
    "rate = input('Enter rate:')\n",
    "r = float(rate)\n",
    "def computepay(h,r):   \n",
    "  if h > 40:\n",
    "    return 40*r+r*1.5*(h-40)\n",
    "  elif h <=40:\n",
    "    return h*r \n",
    "p = computepay(h,r)\n",
    "print(p)"
   ]
  },
  {
   "cell_type": "code",
   "execution_count": 11,
   "metadata": {},
   "outputs": [
    {
     "name": "stdout",
     "output_type": "stream",
     "text": [
      ">DONE\n",
      "DONE\n",
      ">done\n",
      "Done!\n"
     ]
    }
   ],
   "source": [
    "# Break and continue loop\n",
    "# Break:run out of the loop and do\n",
    "# the next step\n",
    "# Continue: rerun the loop again even when \n",
    "# conditions are not satisfied\n",
    "while True:\n",
    "  line = input('>')\n",
    "  if line[0] == '#':\n",
    "    continue\n",
    "  elif line == 'done':\n",
    "    break\n",
    "  print(line)\n",
    "print('Done!')"
   ]
  },
  {
   "cell_type": "code",
   "execution_count": 7,
   "metadata": {},
   "outputs": [
    {
     "name": "stdout",
     "output_type": "stream",
     "text": [
      "Happy your whole life, XY\n",
      "Happy your whole life, SY\n",
      "Happy your whole life, XJC\n",
      "Happy your whole life, XYT\n",
      "Happy your whole life, CXH\n",
      "Happy your whole life, HY\n"
     ]
    }
   ],
   "source": [
    "# Use definite loop to say hello to friends\n",
    "friends = ['XY','SY','XJC','XYT','CXH','HY']\n",
    "for friend in friends:\n",
    "    print('Happy your whole life,',friend)"
   ]
  },
  {
   "cell_type": "code",
   "execution_count": 8,
   "metadata": {},
   "outputs": [
    {
     "name": "stdout",
     "output_type": "stream",
     "text": [
      "Before -1\n",
      "4 4\n",
      "64 64\n",
      "64 64\n",
      "435 435\n",
      "435 54\n",
      "546 546\n",
      "546 43\n",
      "After 546\n"
     ]
    }
   ],
   "source": [
    "# Find the largest value\n",
    "largest_so_far = -1\n",
    "print('Before',largest_so_far)\n",
    "for the_num in [4, 64, 64, 435, 54, 546, 43]:\n",
    "    if largest_so_far < the_num:\n",
    "      largest_so_far = the_num\n",
    "    print(largest_so_far, the_num)\n",
    "print('After', largest_so_far)"
   ]
  },
  {
   "cell_type": "code",
   "execution_count": 9,
   "metadata": {},
   "outputs": [
    {
     "name": "stdout",
     "output_type": "stream",
     "text": [
      "Before None\n",
      "4 4\n",
      "4 64\n",
      "4 64\n",
      "4 435\n",
      "4 54\n",
      "4 546\n",
      "4 43\n",
      "After 4\n"
     ]
    }
   ],
   "source": [
    "# Find the smallest value\n",
    "smallest_so_far = None\n",
    "print('Before',smallest_so_far)\n",
    "for the_num in [4, 64, 64, 435, 54, 546, 43]:\n",
    "    if smallest_so_far == None:\n",
    "      smallest_so_far = the_num\n",
    "    elif smallest_so_far > the_num:\n",
    "      smallest_so_far = the_num\n",
    "    print(smallest_so_far, the_num)\n",
    "print('After', smallest_so_far)"
   ]
  },
  {
   "cell_type": "code",
   "execution_count": 10,
   "metadata": {},
   "outputs": [
    {
     "name": "stdout",
     "output_type": "stream",
     "text": [
      "Before 0 0\n",
      "After 5 7382 1476.4\n"
     ]
    }
   ],
   "source": [
    "# Counting the number, value and average \n",
    "# value of your friend\n",
    "count = 0\n",
    "value = 0\n",
    "print('Before',count,value)\n",
    "for wealth in [4,54,6545,234,545]:\n",
    "    count = count + 1\n",
    "    value = value + wealth\n",
    "print('After',count,value,value/count)"
   ]
  },
  {
   "cell_type": "code",
   "execution_count": 11,
   "metadata": {},
   "outputs": [
    {
     "name": "stdout",
     "output_type": "stream",
     "text": [
      "Before: False\n",
      "False 54\n",
      "False 43\n",
      "False 43\n",
      "False 3453\n",
      "True 3\n",
      "True 24\n",
      "After: True\n"
     ]
    }
   ],
   "source": [
    "# Searching a certain value in list\n",
    "found = False\n",
    "print('Before:',found)\n",
    "for val in [54, 43, 43, 3453, 3, 24]:\n",
    "    if val == 3:\n",
    "        found = True\n",
    "    print(found, val)\n",
    "print('After:', found)"
   ]
  },
  {
   "cell_type": "code",
   "execution_count": 9,
   "metadata": {},
   "outputs": [
    {
     "name": "stdout",
     "output_type": "stream",
     "text": [
      "Enter a number: 3\n",
      "Enter a number: 6\n",
      "Enter a number: 3\n",
      "Enter a number: 2\n",
      "Enter a number: done\n",
      "2 6\n"
     ]
    }
   ],
   "source": [
    "# Input a list of intergers and find largest and the smallest\n",
    "# Enter done to finish the input process\n",
    "# use try&expect to catch other invalid value\n",
    "largest = None\n",
    "smallest = None\n",
    "while True:\n",
    "    num = input(\"Enter a number: \")\n",
    "    if num == \"done\" : break\n",
    "    elif largest == None or largest < num :\n",
    "            largest = num\n",
    "    elif smallest == None or smallest > num:\n",
    "            smallest = num\n",
    "print(smallest, largest)"
   ]
  },
  {
   "cell_type": "code",
   "execution_count": null,
   "metadata": {},
   "outputs": [],
   "source": []
  }
 ],
 "metadata": {
  "kernelspec": {
   "display_name": "Python 3",
   "language": "python",
   "name": "python3"
  },
  "language_info": {
   "codemirror_mode": {
    "name": "ipython",
    "version": 3
   },
   "file_extension": ".py",
   "mimetype": "text/x-python",
   "name": "python",
   "nbconvert_exporter": "python",
   "pygments_lexer": "ipython3",
   "version": "3.7.2"
  }
 },
 "nbformat": 4,
 "nbformat_minor": 1
}
