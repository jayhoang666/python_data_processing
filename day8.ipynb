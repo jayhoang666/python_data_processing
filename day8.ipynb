{
 "cells": [
  {
   "cell_type": "code",
   "execution_count": null,
   "metadata": {},
   "outputs": [
    {
     "name": "stdout",
     "output_type": "stream",
     "text": [
      "[]\n",
      "()\n"
     ]
    }
   ],
   "source": [
    "# list vs tuple\n",
    "# tuple, like str, is immutable,thus is more efficient\n",
    "# and more performant than list  \n",
    "print(list())\n",
    "print(tuple())"
   ]
  },
  {
   "cell_type": "code",
   "execution_count": 8,
   "metadata": {},
   "outputs": [
    {
     "data": {
      "text/plain": [
       "True"
      ]
     },
     "execution_count": 8,
     "metadata": {},
     "output_type": "execute_result"
    }
   ],
   "source": [
    "(3,80) < (5,3)"
   ]
  },
  {
   "cell_type": "code",
   "execution_count": 83,
   "metadata": {},
   "outputs": [
    {
     "name": "stdout",
     "output_type": "stream",
     "text": [
      "[('a', 10), ('b', 1), ('c', 22)]\n"
     ]
    }
   ],
   "source": [
    "# Using sorted(sorted by keys)\n",
    "d = {'a':10, 'b':1, 'c':22}\n",
    "t = sorted(d.items())\n",
    "print(t)\n",
    "# sorted by values: basisly, we do it by generating\n",
    "# a temporary list\n",
    "#tmp = list()\n",
    "#for k,v in d.items():\n",
    "   # tmp.append((v,k))\n",
    "#print(tmp)\n",
    "#tmp = sorted(tmp, reverse = True)\n",
    "#print(tmp)"
   ]
  },
  {
   "cell_type": "code",
   "execution_count": 52,
   "metadata": {},
   "outputs": [
    {
     "name": "stdout",
     "output_type": "stream",
     "text": [
      "Jan 352\n",
      "2008 324\n",
      "by 245\n",
      "Received: 243\n",
      "-0500 219\n",
      "from 218\n",
      "4 203\n",
      "with 194\n",
      "Fri, 183\n",
      "id 136\n",
      "[(1, '\"Duplicate'), (1, '\"Re-Use'), (1, '#38024'), (1, \"'polls/tool/src/webapp/WEB-INF/requestContext.xml\"), (1, '(Guest)'), (1, '(Mon,'), (1, '(Sat,'), (1, '(anniehall.mr.itd.umich.edu'), (1, '(at'), (1, '(carrie.mr.itd.umich.edu'), (1, '(dreamcatcher.mr.itd.umich.edu'), (1, '(for'), (1, '(ghostbusters.mr.itd.umich.edu'), (1, '(it.mr.itd.umich.edu'), (1, '(r39033)'), (1, '(resolve'), (1, '(shining.mr.itd.umich.edu'), (1, '(tadpole.mr.itd.umich.edu'), (1, '(workinggirl.mr.itd.umich.edu'), (1, '-0400'), (1, '-c39146'), (1, '-c39641'), (1, '-c39753'), (1, '-r39146'), (1, '-r39558:39557'), (1, '-r39571:39570'), (1, '-r39641'), (1, '-r39753'), (1, '/site-manage/trunk/site-manage-tool/tool/src/java/org/sakaiproject/site/tool/SiteAction.java'), (1, '0.6178'), (1, '0.6526'), (1, '0.6528'), (1, '0.6932'), (1, '0.6948'), (1, '0.6956'), (1, '0.6961'), (1, '0.7554'), (1, '0.7558'), (1, '0.7559'), (1, '0.7565'), (1, '0.7601'), (1, '0.7606'), (1, '0.7615'), (1, '0.7626'), (1, '0.8475'), (1, '0.8509'), (1, '0.9846'), (1, '0.9907'), (1, '00:25:00'), (1, '00:35:43'), (1, '00:36:06'), (1, '04:05:43'), (1, '04:05:54'), (1, '04:07:29'), (1, '04:07:32'), (1, '04:31:35'), (1, '04:32:03'), (1, '04:33:35'), (1, '04:33:42'), (1, '04:47:16'), (1, '04:49:03'), (1, '04:49:06'), (1, '06:05:51'), (1, '06:08:23'), (1, '06:08:26'), (1, '07'), (1, '07969BB706;'), (1, '07:00:10'), (1, '07:02:27'), (1, '07:02:31'), (1, '09:02:54'), (1, '09:03:52'), (1, '09:05:26'), (1, '09:05:30'), (1, '09:07:19'), (1, '09:12:07'), (1, '09:12:19'), (1, '09:14:10'), (1, '09:14:15'), (1, '09:33:10'), (1, '09:33:13'), (1, '09:33:27'), (1, '09:48:36'), (1, '09:48:40'), (1, '09:48:55'), (1, '0A6ED42DFC'), (1, '0BC8D7225E;'), (1, '1006'), (1, '10:01:40'), (1, '10:04:05'), (1, '10:04:13'), (1, '10:15:54'), (1, '10:17:38'), (1, '10:37:04'), (1, '10:38:37'), (1, '10:38:41'), (1, '11:07:56'), (1, '11:07:58'), (1, '11:08:12'), (1, '11:08:38'), (1, '11:09:12'), (1, '11:09:15'), (1, '11:10:04'), (1, '11:10:18'), (1, '11:10:21'), (1, '11:10:56'), (1, '11:11:00'), (1, '11:11:34'), (1, '11:12:30'), (1, '11:12:36'), (1, '11:33:05'), (1, '11:35:02'), (1, '11:35:06'), (1, '11:35:25'), (1, '11:37:09'), (1, '11:37:29'), (1, '120'), (1, '12:02:11'), (1, '13:05:51'), (1, '14:05:03'), (1, '14:05:04'), (1, '14:05:26'), (1, '14:09:50'), (1, '14:10:05'), (1, '14:13:33'), (1, '14:48:37'), (1, '14:48:40'), (1, '14:50:13'), (1, '14:50:17'), (1, '14:54:46'), (1, '153'), (1, '15:01:37'), (1, '15:03:12'), (1, '15:03:17'), (1, '15:04:00'), (1, '15:17:08'), (1, '15:17:11'), (1, '15:17:34'), (1, '15:25:38'), (1, '15:37:21'), (1, '15:37:36'), (1, '15:38:17'), (1, '15:44:39'), (1, '15:46:13'), (1, '15:46:23'), (1, '16:09:01'), (1, '16:09:50'), (1, '16:09:51'), (1, '16:10:11'), (1, '16:10:26'), (1, '16:10:27'), (1, '16:10:33'), (1, '16:10:38'), (1, '16:10:53'), (1, '16:11:16'), (1, '16:11:18'), (1, '16:11:31'), (1, '16:12:12'), (1, '16:12:14'), (1, '16:12:27'), (1, '16:17:59'), (1, '16:22:14'), (1, '16:23:44'), (1, '16:23:47'), (1, '16:27:29'), (1, '16:28:58'), (1, '16:29:06'), (1, '16:33:02'), (1, '16:34:01'), (1, '16:34:17'), (1, '16:34:36'), (1, '16:34:38'), (1, '16:34:39'), (1, '16:36:37'), (1, '16:36:40'), (1, '16:37:07'), (1, '17'), (1, '17:05:11'), (1, '17:06:53'), (1, '17:06:59'), (1, '17:11:08'), (1, '17:16:39'), (1, '17:18:14'), (1, '17:18:22'), (1, '18:08:50'), (1, '18:10:31'), (1, '18:10:37'), (1, '19:23:46'), (1, '19:46:50'), (1, '19:47:10'), (1, '19:49:51'), (1, '19:51:15'), (1, '19:51:19'), (1, '19:51:20'), (1, '1CACC42D0C'), (1, '1CD0C42E42'), (1, '1FBB042B30'), (1, '2-5-x:'), (1, '2.4.x'), (1, '2007'), (1, '2007-09-12'), (1, '2007-12-12'), (1, '2007-12-17'), (1, '2007-12-28'), (1, '2008-01-05'), (1, '20:02:46'), (1, '20:02:50'), (1, '20:03:09'), (1, '20:45:52'), (1, '20:45:56'), (1, '20:46:13'), (1, '21:10:14'), (1, '21:10:18'), (1, '21:10:31'), (1, '21:23:38'), (1, '21:26:28'), (1, '21:28:38'), (1, '21:28:39'), (1, '21:28:52'), (1, '21:34:08'), (1, '21:34:12'), (1, '21:34:29'), (1, '21:40:33'), (1, '22:06:23'), (1, '22:06:34'), (1, '22:06:57'), (1, '22:17:52'), (1, '22:18:04'), (1, '22:18:19'), (1, '236'), (1, '23:10:33'), (1, '23:44:24'), (1, '246'), (1, '25'), (1, '254CC8CDEE;'), (1, '272'), (1, '28'), (1, '2AB513C2FD'), (1, '2D1B9BB492;'), (1, '2E7043DFA2'), (1, '32'), (1, '33C7856DC0;'), (1, '3535542B69'), (1, '38'), (1, '385'), (1, '39558'), (1, '39571'), (1, '39687:39688'), (1, '39742'), (1, '39743'), (1, '39744'), (1, '39745'), (1, '39746'), (1, '39749'), (1, '39750'), (1, '39751'), (1, '39752'), (1, '39753'), (1, '39754'), (1, '39755'), (1, '39756'), (1, '39757'), (1, '39758'), (1, '39759'), (1, '39760'), (1, '39761'), (1, '39762'), (1, '39763'), (1, '39764'), (1, '39765'), (1, '39766'), (1, '39769'), (1, '39770'), (1, '39771'), (1, '39772'), (1, '3C0261D617'), (1, '43C4242B55'), (1, '477D525E.1448.30389'), (1, '477D5397.E161D.20326'), (1, '477D54EA.13F34.26602'), (1, '477D5C7A.4FE1F.22211'), (1, '477D5F23.797F6.16348'), (1, '477D8300.AC098.32562'), (1, '477DF74E.49493.30415'), (1, '477DFD6C.75DBE.26054'), (1, '477E010C.48C2.10259'), (1, '477E13A5.30FC0.24054'), (1, '477E2050.C2599.3263'), (1, '477E3D23.EE2E7.5237'), (1, '477E4AE3.D7AF.31669'), (1, '477E4E0F.CCA4B.926'), (1, '477E52FA.E6C6E.24093'), (1, '477E5A67.34350.23015'), (1, '477E5A8D.B378F.24200'), (1, '477E5AB3.5CC32.30840'), (1, '477E5AEB.E670B.28397'), (1, '477E6033.6469D.21870'), (1, '477E60B2.82756.9904'), (1, '477E8DF2.67B91.5278'), (1, '477E9100.8F7F4.1590'), (1, '477E9B13.2F3BC.22965'), (1, '477EA0C6.A0214.25480'), (1, '477EBCE3.161BB.4320'), (1, '477F90B0.2DB2F.12494'), (1, '483'), (1, '4AE03BB552;'), (1, '4BA2F42F57'), (1, '5296342D3C'), (1, '554'), (1, '575'), (1, '57770BB477;'), (1, '585'), (1, '5B396236B9'), (1, '5F919BC2F2;'), (1, '6'), (1, '622'), (1, '62AA4BAE46;'), (1, '6497FBA906;'), (1, '690'), (1, '697'), (1, '6A39594CD2;'), (1, '6C69423767'), (1, '6C929BA656;'), (1, '710'), (1, '754'), (1, '784A476D7B;'), (1, '7D13042F71'), (1, '88598BA5B6;'), (1, '8889842C49'), (1, '899'), (1, '8C13342C92'), (1, '8D13DBB001;'), (1, '905D53C2FD'), (1, '906'), (1, '90636418A8'), (1, '917'), (1, '933E3BAC17;'), (1, '960'), (1, '966'), (1, '98D04BAD43;'), (1, '99715BAE7D;'), (1, '9D005B9D06;'), (1, '9F89542DD0'), (1, '<200801032122.m03LMFo4005148@nakamura.uits.iupui.edu>'), (1, '<200801032127.m03LRUqH005177@nakamura.uits.iupui.edu>'), (1, '<200801032133.m03LX3gG005191@nakamura.uits.iupui.edu>'), (1, '<200801032205.m03M5Ea7005273@nakamura.uits.iupui.edu>'), (1, '<200801032216.m03MGhDa005292@nakamura.uits.iupui.edu>'), (1, '<200801040023.m040NpCc005473@nakamura.uits.iupui.edu>'), (1, '<200801040905.m0495rWB006420@nakamura.uits.iupui.edu>'), (1, '<200801040932.m049W2i5006493@nakamura.uits.iupui.edu>'), (1, '<200801040947.m049lUxo006517@nakamura.uits.iupui.edu>'), (1, '<200801041106.m04B6lK3006677@nakamura.uits.iupui.edu>'), (1, '<200801041200.m04C0gfK006793@nakamura.uits.iupui.edu>'), (1, '<200801041403.m04E3psW006926@nakamura.uits.iupui.edu>'), (1, '<200801041502.m04F21Jo007031@nakamura.uits.iupui.edu>'), (1, '<200801041515.m04FFv42007050@nakamura.uits.iupui.edu>'), (1, '<200801041537.m04Fb6Ci007092@nakamura.uits.iupui.edu>'), (1, '<200801041608.m04G8d7w007184@nakamura.uits.iupui.edu>'), (1, '<200801041609.m04G9EuX007197@nakamura.uits.iupui.edu>'), (1, '<200801041610.m04GA5KP007209@nakamura.uits.iupui.edu>'), (1, '<200801041611.m04GB1Lb007221@nakamura.uits.iupui.edu>'), (1, '<200801041633.m04GX6eG007292@nakamura.uits.iupui.edu>'), (1, '<200801041635.m04GZQGZ007313@nakamura.uits.iupui.edu>'), (1, '<200801041948.m04JmdwO007705@nakamura.uits.iupui.edu>'), (1, '<200801042001.m04K1cO0007738@nakamura.uits.iupui.edu>'), (1, '<200801042044.m04Kiem3007881@nakamura.uits.iupui.edu>'), (1, '<200801042109.m04L92hb007923@nakamura.uits.iupui.edu>'), (1, '<200801042308.m04N8v6O008125@nakamura.uits.iupui.edu>'), (1, '<200801051412.m05ECIaH010327@nakamura.uits.iupui.edu>'), (1, 'A215243002'), (1, 'A55D242F57'), (1, 'AB4D042F4D'), (1, 'AC2F6236B9'), (1, 'Add'), (1, 'Assignment2'), (1, 'B3E6742F4A'), (1, 'BD02DBAC64;'), (1, 'BSP-1415'), (1, 'BSP-1420'), (1, 'BSP-1421'), (1, 'C48CDBB490;'), (1, 'C596A3DFA2'), (1, 'C7251BAD44;'), (1, 'CC710ADC79;'), (1, 'CEFA037ACE'), (1, 'Changed'), (1, 'Course'), (1, 'Create'), (1, 'D430B42E42'), (1, 'DEC65ADC79;'), (1, 'E40FABAE5B;'), (1, 'E6CC4B9F8A;'), (1, 'EF439B98CE;'), (1, 'Files'), (1, 'Fixed'), (1, 'GB.'), (1, 'Gopal'), (1, 'Group'), (1, 'If'), (1, 'JAR'), (1, 'MODIFY'), (1, 'MST'), (1, 'Materials...\"'), (1, 'Notification'), (1, 'Nov'), (1, 'Refactor'), (1, 'Release.'), (1, 'Repository'), (1, 'Resolved'), (1, 'SAK-10788'), (1, 'SAK-10788:'), (1, 'SAK-10911:'), (1, 'SAK-11169'), (1, 'SAK-11458'), (1, 'SAK-12065'), (1, 'SAK-12175'), (1, 'SAK-12484'), (1, 'SAK-12484.'), (1, 'SAK-12488'), (1, 'SAK-12488.'), (1, 'SAK-12501'), (1, 'SAK-12504'), (1, 'SAK-12592'), (1, 'SAK-12595'), (1, 'SAK-12596'), (1, 'SAK-12602'), (1, \"SAK-12604:Don't\"), (1, 'SAK-6216'), (1, 'SAK-9996'), (1, 'Samigo'), (1, 'Sep'), (1, 'Setup'), (1, 'Site\"'), (1, 'SubmissionStatus/TotalScores/Questions'), (1, 'TA'), (1, 'Temporary'), (1, 'UCT'), (1, 'Update'), (1, 'View'), (1, 'Viewing'), (1, 'WS'), (1, 'Watch'), (1, 'Wed'), (1, '[141.211.14.34])'), (1, '[141.211.14.36])'), (1, '[141.211.14.43])'), (1, '[141.211.14.72])'), (1, '[141.211.14.92])'), (1, '[141.211.14.93])'), (1, '[141.211.14.98])'), (1, '[141.211.93.141])'), (1, '[141.211.93.143])'), (1, '[141.211.93.144])'), (1, '[141.211.93.151])'), (1, '[141.211.93.152])'), (1, '[141.211.93.153])'), (1, 'advantage'), (1, 'all'), (1, 'all,'), (1, 'an'), (1, 'app/business/src/java/org/sakaiproject/tool/gradebook/business/impl'), (1, 'appear'), (1, 'appears'), (1, 'are'), (1, 'assignment'), (1, 'assignment-impl/impl/src/java/org/sakaiproject/assignment/impl'), (1, 'assignment-tool/tool/src/webapp/vm/assignment'), (1, 'assignment/trunk/assignment-impl/impl/src/java/org/sakaiproject/assignment/impl/BaseAssignmentService.java'), (1, 'assignment/trunk/assignment-tool/tool/src/webapp/vm/assignment/chef_assignments_instructor_list_submissions.vm'), (1, 'assignment/trunk:'), (1, 'being'), (1, 'branch'), (1, 'bspace/site-manage/sakai_2-4-x/site-manage-tool/tool/src/java/org/sakaiproject/site/tool/SiteAction.java'), (1, 'bspace/site-manage/sakai_2-4-x/site-manage-tool/tool/src/webapp/vm/sitesetup/chef_site-importSites.vm'), (1, 'bspace/site-manage/sakai_2-4-x/site-manage-tool/tool/src/webapp/vm/sitesetup/chef_site-siteInfo-duplicate.vm'), (1, 'build)'), (1, 'business/src/java/org/sakaiproject/tool/gradebook/business'), (1, 'business/src/java/org/sakaiproject/tool/gradebook/business/impl'), (1, 'caching'), (1, 'casino.mail.umich.edu'), (1, 'categories'), (1, 'causes'), (1, 'change'), (1, 'chaos.mail.umich.edu'), (1, 'check'), (1, 'checkin'), (1, 'cleanup.'), (1, 'click'), (1, 'closer'), (1, 'commit'), (1, 'component/branches/SAK-12166/component-api/component/src/java/org/sakaiproject/component/impl/spring/support/ComponentsLoaderImpl.java'), (1, 'component/branches/SAK-12166/component-api/component/src/java/org/sakaiproject/component/impl/spring/support/dynamic/'), (1, 'component/branches/SAK-12166/component-api/component/src/java/org/sakaiproject/component/impl/spring/support/dynamic/DynamicComponentManager.java'), (1, 'component/branches/SAK-12166/component-api/component/src/java/org/sakaiproject/component/impl/support/'), (1, 'component/branches/SAK-12166/component-api/component/src/java/org/sakaiproject/component/impl/support/DynamicComponentRecord.java'), (1, 'component/branches/SAK-12166/component-api/component/src/java/org/sakaiproject/component/impl/support/DynamicJARManager.java'), (1, 'component/branches/SAK-12166/component-api/component/src/java/org/sakaiproject/component/impl/support/JARRecord.java'), (1, 'component/branches/SAK-12166/component-api/component/src/java/org/sakaiproject/component/util/ByteToCharBase64.java'), (1, 'component/branches/SAK-12166/component-api/component/src/java/org/sakaiproject/component/util/FileUtil.java'), (1, 'component/branches/SAK-12166/component-api/component/src/java/org/sakaiproject/component/util/RecordFileIO.java'), (1, 'component/branches/SAK-12166/component-api/component/src/java/org/sakaiproject/component/util/RecordReader.java'), (1, 'component/branches/SAK-12166/component-api/component/src/java/org/sakaiproject/component/util/RecordWriter.java'), (1, 'component/branches/SAK-12166/component-api/component/src/java/org/sakaiproject/component/util/StreamDigestor.java'), (1, 'component/branches/SAK-12166/component-api/component/src/java/org/sakaiproject/component:'), (1, 'components'), (1, 'concatenate'), (1, 'conflicted'), (1, 'content/branches/sakai_2-5-x/content-impl/impl/src/java/org/sakaiproject/content/impl'), (1, 'content/branches/sakai_2-5-x/content-impl/impl/src/java/org/sakaiproject/content/impl/ContentServiceSqlOracle.java'), (1, 'content/branches/sakai_2-5-x/content-impl/impl/src/java/org/sakaiproject/content/impl/DbContentService.java'), (1, 'convenience'), (1, 'couse'), (1, 'current'), (1, 'differing'), (1, 'does'), (1, 'empty'), (1, 'enrollments'), (1, 'errors'), (1, 'event'), (1, 'event/branches/SAK-6216/event-util/util/src/java/org/sakaiproject/util'), (1, 'event/branches/SAK-6216/event-util/util/src/java/org/sakaiproject/util/EmailNotification.java'), (1, 'external'), (1, 'fake'), (1, 'filter'), (1, 'filter.'), (1, 'getGradeDefinitionForStudentForItem'), (1, 'godsend.mail.umich.edu'), (1, 'gradebook/trunk/app/business/src/java/org/sakaiproject/tool/gradebook/business/GradebookManager.java'), (1, 'gradebook/trunk/app/ui/pom.xml'), (1, 'gradebook/trunk/app/ui/src/java/org/sakaiproject/tool/gradebook/ui/helpers/beans/AssignmentGradeRecordCreator.java'), (1, 'gradebook/trunk/app/ui/src/java/org/sakaiproject/tool/gradebook/ui/helpers/beans/GradebookItemBean.java'), (1, 'gradebook/trunk/app/ui/src/java/org/sakaiproject/tool/gradebook/ui/helpers/entity/GradebookEntryEntityProvider.java'), (1, 'gradebook/trunk/app/ui/src/java/org/sakaiproject/tool/gradebook/ui/helpers/entity/GradebookEntryGradeEntityProvider.java'), (1, 'gradebook/trunk/app/ui/src/java/org/sakaiproject/tool/gradebook/ui/helpers/params/GradeGradebookItemViewParams.java'), (1, 'gradebook/trunk/app/ui/src/java/org/sakaiproject/tool/gradebook/ui/helpers/producers/AddGradebookItemProducer.java'), (1, 'gradebook/trunk/app/ui/src/webapp/content/templates/grade-gradebook-item.html'), (1, 'gradebook/trunk/app/ui/src:'), (1, 'gradebook/trunk/app:'), (1, 'gradebook/trunk/service/api/src/java/org/sakaiproject/service/gradebook/shared/GradebookService.java'), (1, 'gradebook/trunk/service/impl/src/java/org/sakaiproject/component/gradebook/GradebookServiceHibernateImpl.java'), (1, 'gradebook/trunk:'), (1, 'grader'), (1, 'grading'), (1, 'groups/sections'), (1, 'has'), (1, 'have'), (1, 'http://bugs.sakaiproject.org/jira/browse/SAK-11458'), (1, 'http://bugs.sakaiproject.org/jira/browse/SAK-12175'), (1, 'http://bugs.sakaiproject.org/jira/browse/SAK-12592'), (1, 'http://bugs.sakaiproject.org/jira/browse/SAK-12595'), (1, 'http://bugs.sakaiproject.org/jira/browse/SAK-12596'), (1, 'http://jira.sakaiproject.org/jira/browse/SAK-12484'), (1, 'http://jira.sakaiproject.org/jira/browse/SAK-12488'), (1, 'http://jira.sakaiproject.org/jira/browse/SAK-12504'), (1, 'http://source.sakaiproject.org/viewsvn/?view=rev&rev=39742'), (1, 'http://source.sakaiproject.org/viewsvn/?view=rev&rev=39743'), (1, 'http://source.sakaiproject.org/viewsvn/?view=rev&rev=39744'), (1, 'http://source.sakaiproject.org/viewsvn/?view=rev&rev=39745'), (1, 'http://source.sakaiproject.org/viewsvn/?view=rev&rev=39746'), (1, 'http://source.sakaiproject.org/viewsvn/?view=rev&rev=39749'), (1, 'http://source.sakaiproject.org/viewsvn/?view=rev&rev=39750'), (1, 'http://source.sakaiproject.org/viewsvn/?view=rev&rev=39751'), (1, 'http://source.sakaiproject.org/viewsvn/?view=rev&rev=39752'), (1, 'http://source.sakaiproject.org/viewsvn/?view=rev&rev=39753'), (1, 'http://source.sakaiproject.org/viewsvn/?view=rev&rev=39754'), (1, 'http://source.sakaiproject.org/viewsvn/?view=rev&rev=39755'), (1, 'http://source.sakaiproject.org/viewsvn/?view=rev&rev=39756'), (1, 'http://source.sakaiproject.org/viewsvn/?view=rev&rev=39757'), (1, 'http://source.sakaiproject.org/viewsvn/?view=rev&rev=39758'), (1, 'http://source.sakaiproject.org/viewsvn/?view=rev&rev=39759'), (1, 'http://source.sakaiproject.org/viewsvn/?view=rev&rev=39760'), (1, 'http://source.sakaiproject.org/viewsvn/?view=rev&rev=39761'), (1, 'http://source.sakaiproject.org/viewsvn/?view=rev&rev=39762'), (1, 'http://source.sakaiproject.org/viewsvn/?view=rev&rev=39763'), (1, 'http://source.sakaiproject.org/viewsvn/?view=rev&rev=39764'), (1, 'http://source.sakaiproject.org/viewsvn/?view=rev&rev=39765'), (1, 'http://source.sakaiproject.org/viewsvn/?view=rev&rev=39766'), (1, 'http://source.sakaiproject.org/viewsvn/?view=rev&rev=39769'), (1, 'http://source.sakaiproject.org/viewsvn/?view=rev&rev=39770'), (1, 'http://source.sakaiproject.org/viewsvn/?view=rev&rev=39771'), (1, 'http://source.sakaiproject.org/viewsvn/?view=rev&rev=39772'), (1, 'https://source.sakaiproject.org/svn/site-manage/trunk/'), (1, 'ids'), (1, 'images'), (1, 'impl'), (1, 'impl/spring/support'), (1, 'impl/spring/support/dynamic'), (1, 'impl/support'), (1, 'include'), (1, 'incomplete'), (1, 'information,'), (1, 'integration'), (1, 'is'), (1, 'java/org/sakaiproject/tool/gradebook/ui/helpers/beans'), (1, 'java/org/sakaiproject/tool/gradebook/ui/helpers/producers'), (1, 'jsp'), (1, 'least'), (1, 'like'), (1, 'linebreaks'), (1, 'local'), (1, 'logic'), (1, 'm03LMFo4005148'), (1, 'm03LMFtT005150'), (1, 'm03LNlf0002115;'), (1, 'm03LRUk4005179'), (1, 'm03LRUqH005177'), (1, 'm03LT6uw027749;'), (1, 'm03LX3Vb005193'), (1, 'm03LX3gG005191'), (1, 'm03LYdY1029538;'), (1, 'm03M5EQa005275'), (1, 'm03M5Ea7005273'), (1, 'm03M6xaq014868;'), (1, 'm03MGhDa005292'), (1, 'm03MGhrs005294'), (1, 'm03MIMXY027729;'), (1, 'm040NpCc005473'), (1, 'm040NpgM005475'), (1, 'm040pJHB027171;'), (1, 'm0495rWB006420'), (1, 'm0495sZs006422'), (1, 'm0497WAN027902;'), (1, 'm049W2i5006493'), (1, 'm049W3fl006495'), (1, 'm049Xge3031803;'), (1, 'm049lU3P006519'), (1, 'm049lUxo006517'), (1, 'm049n60G017588;'), (1, 'm04B6lK3006677'), (1, 'm04B6lWM006679'), (1, 'm04B8Qw9001368;'), (1, 'm04C0gfK006793'), (1, 'm04C0gnm006795'), (1, 'm04C2VN7026678;'), (1, 'm04E3pQS006928'), (1, 'm04E3psW006926'), (1, 'm04E5U3C029277;'), (1, 'm04F21Jo007031'), (1, 'm04F21hn007033'), (1, 'm04F4Dci015108;'), (1, 'm04FFv42007050'), (1, 'm04FFv85007052'), (1, 'm04FHgfs011536;'), (1, 'm04Fb6Ci007092'), (1, 'm04Fb6nh007094'), (1, 'm04Fcfjm012313;'), (1, 'm04G8d7w007184'), (1, 'm04G8dXN007186'), (1, 'm04G9Eqg007199'), (1, 'm04G9EuX007197'), (1, 'm04GA5KP007209'), (1, 'm04GA5LR007211'), (1, 'm04GAL9k010604;'), (1, 'm04GB1Lb007221'), (1, 'm04GB1Wt007223'), (1, 'm04GB3Vg011502;'), (1, 'm04GBqqv025330;'), (1, 'm04GCaHB030887;'), (1, 'm04GX6Y3007294'), (1, 'm04GX6eG007292'), (1, 'm04GZ6lt020480;'), (1, 'm04GZQ7W007315'), (1, 'm04GZQGZ007313'), (1, 'm04GbT9x022078;'), (1, 'm04JmdwO007705'), (1, 'm04JmeV9007707'), (1, 'm04JoHJi019755;'), (1, 'm04K1cO0007738'), (1, 'm04K1cXv007740'), (1, 'm04K3HGF006563;'), (1, 'm04Kiem3007881'), (1, 'm04KieqE007883'), (1, 'm04KkNbx032077;'), (1, 'm04L927E007925'), (1, 'm04L92hb007923'), (1, 'm04LAcZw014275;'), (1, 'm04N8v6O008125'), (1, 'm04N8vHG008127'), (1, 'm04NAbGa029441;'), (1, 'm05ECIaH010327'), (1, 'm05ECJVp010329'), (1, 'm05EEFR1013674;'), (1, 'mailarchive/trunk/mailarchive-tool/tool/src/bundle'), (1, 'mailarchive/trunk/mailarchive-tool/tool/src/bundle/email.properties'), (1, 'manualy'), (1, 'merged'), (1, 'messageforums-api/src/bundle/org/sakaiproject/api/app/messagecenter/bundle'), (1, 'messageforums-api/src/bundle/org/sakaiproject/api/app/messagecenter/bundle/Messages.properties'), (1, 'messageforums-app/src/java/org/sakaiproject/tool/messageforums'), (1, 'messageforums-app/src/java/org/sakaiproject/tool/messageforums/ui/PrivateMessageDecoratedBean.java'), (1, 'methods'), (1, 'mission.mail.umich.edu'), (1, 'more'), (1, 'msgcntr/trunk/messageforums-api/src/bundle/org/sakaiproject/api/app/messagecenter/bundle/Messages.properties'), (1, 'msgcntr/trunk/messageforums-app/src/java/org/sakaiproject/tool/messageforums/ui/PrivateMessageDecoratedBean.java'), (1, 'msgcntr/trunk/messageforums-app/src/java/org/sakaiproject/tool/messageforums:'), (1, 'msgcntr/trunk:'), (1, 'much'), (1, 'multiple'), (1, 'name.'), (1, 'no'), (1, 'null'), (1, 'null.'), (1, 'object'), (1, 'oncourse/branches/oncourse_OPC_122007'), (1, 'oncourse/branches/oncourse_OPC_122007/'), (1, 'oncourse/branches/oncourse_OPC_122007/.externals'), (1, 'one.'), (1, 'or'), (1, 'other'), (1, 'pages'), (1, 'participant'), (1, 'podMain.jsp'), (1, 'podcasts/branches/sakai_2-5-x/podcasts-app/src/webapp/images/rss-feed-icon.png'), (1, 'podcasts/branches/sakai_2-5-x/podcasts-app/src/webapp/podcasts/podDelete.jsp'), (1, 'podcasts/branches/sakai_2-5-x/podcasts-app/src/webapp/podcasts/podNoResource.jsp'), (1, 'podcasts/branches/sakai_2-5-x/podcasts-app/src/webapp/podcasts/podOptions.jsp'), (1, 'podcasts/branches/sakai_2-5-x/podcasts-app/src/webapp/podcasts/podPermissions.jsp'), (1, 'podcasts/podcasts-app/src/webapp/images/rss-feed-icon.png'), (1, 'podcasts/podcasts-app/src/webapp/podcasts/podDelete.jsp'), (1, 'podcasts/podcasts-app/src/webapp/podcasts/podNoResource.jsp'), (1, 'podcasts/podcasts-app/src/webapp/podcasts/podOptions.jsp'), (1, 'podcasts/podcasts-app/src/webapp/podcasts/podPermissions.jsp'), (1, 'polls/'), (1, 'polls/.classpath'), (1, 'polls/branches/sakai_2-5-x/.classpath'), (1, 'polls/branches/sakai_2-5-x/tool/pom.xml'), (1, 'polls/branches/sakai_2-5-x/tool/src/java/org/sakaiproject/poll/tool/evolvers/'), (1, 'polls/branches/sakai_2-5-x/tool/src/webapp/WEB-INF/requestContext.xml'), (1, 'polls/branches/sakai_2-5-x:'), (1, 'polls/tool/pom.xml'), (1, 'polls/tool/src/java/org/sakaiproject/poll/tool/evolvers'), (1, 'polls/tool/src/java/org/sakaiproject/poll/tool/evolvers/SakaiFCKTextEvolver.java'), (1, 'polls/trunk/.classpath'), (1, 'polls/trunk/tool/pom.xml'), (1, 'polls/trunk/tool/src/java/org/sakaiproject/poll/tool/evolvers/'), (1, 'polls/trunk/tool/src/java/org/sakaiproject/poll/tool/evolvers/SakaiFCKTextEvolver.java'), (1, 'polls/trunk/tool/src/webapp/WEB-INF/requestContext.xml'), (1, 'polls/trunk:'), (1, 'project'), (1, 'proper'), (1, 'provide'), (1, 'provided'), (1, 'provider'), (1, 'providers/trunk/cm/cm-authz-provider/src/java/org/sakaiproject/coursemanagement/impl/provider'), (1, 'providers/trunk/cm/cm-authz-provider/src/java/org/sakaiproject/coursemanagement/impl/provider/CourseManagementGroupProvider.java'), (1, 'r35014'), (1, 'r39146'), (1, 'r39403'), (1, 'r39558'), (1, 'r39571'), (1, 'r39622)'), (1, 'r39622,'), (1, 'r39624:5,'), (1, 'r39632:3'), (1, 'r39641'), (1, 'r39742'), (1, 'r39743'), (1, 'r39744'), (1, 'r39745'), (1, 'r39746'), (1, 'r39749'), (1, 'r39750'), (1, 'r39751'), (1, 'r39752'), (1, 'r39754'), (1, 'r39755'), (1, 'r39756'), (1, 'r39757'), (1, 'r39758'), (1, 'r39759'), (1, 'r39760'), (1, 'r39761'), (1, 'r39762'), (1, 'r39763'), (1, 'r39764'), (1, 'r39765'), (1, 'r39766'), (1, 'r39769'), (1, 'r39770'), (1, 'r39771'), (1, 'r39772'), (1, 'required'), (1, 'resolved'), (1, 'right'), (1, 'roles'), (1, 'row'), (1, 'sam/branches/SAK-12065/samigo-api/src/java/org/sakaiproject/tool/assessment/shared/api/grading/GradingSectionAwareServiceAPI.java'), (1, 'sam/branches/SAK-12065/samigo-app/src/java/org/sakaiproject/tool/assessment/ui/bean/evaluation/QuestionScoresBean.java'), (1, 'sam/branches/SAK-12065/samigo-app/src/java/org/sakaiproject/tool/assessment/ui/bean/evaluation/SubmissionStatusBean.java'), (1, 'sam/branches/SAK-12065/samigo-app/src/java/org/sakaiproject/tool/assessment/ui/bean/evaluation/TotalScoresBean.java'), (1, 'sam/branches/SAK-12065/samigo-app/src/java/org/sakaiproject/tool/assessment/ui/listener/evaluation/SubmissionStatusListener.java'), (1, 'sam/branches/SAK-12065/samigo-services/src/java/org/sakaiproject/tool/assessment/facade/PublishedAssessmentFacadeQueries.java'), (1, 'sam/branches/SAK-12065/samigo-services/src/java/org/sakaiproject/tool/assessment/facade/PublishedAssessmentFacadeQueriesAPI.java'), (1, 'sam/branches/SAK-12065/samigo-services/src/java/org/sakaiproject/tool/assessment/integration/helper/ifc/SectionAwareServiceHelper.java'), (1, 'sam/branches/SAK-12065/samigo-services/src/java/org/sakaiproject/tool/assessment/integration/helper/integrated/SectionAwareServiceHelperImpl.java'), (1, 'sam/branches/SAK-12065/samigo-services/src/java/org/sakaiproject/tool/assessment/integration/helper/standalone/SectionAwareServiceHelperImpl.java'), (1, 'sam/branches/SAK-12065/samigo-services/src/java/org/sakaiproject/tool/assessment/shared/impl/grading/GradingSectionAwareServiceImpl.java'), (1, 'sam/branches/SAK-12065:'), (1, 'samigo-api/src/java/org/sakaiproject/tool/assessment/shared/api/grading'), (1, 'samigo-app/src/java/org/sakaiproject/tool/assessment/ui/bean/evaluation'), (1, 'samigo-app/src/java/org/sakaiproject/tool/assessment/ui/listener/evaluation'), (1, 'samigo-services/src/java/org/sakaiproject/tool/assessment/facade'), (1, 'samigo-services/src/java/org/sakaiproject/tool/assessment/integration/helper/ifc'), (1, 'samigo-services/src/java/org/sakaiproject/tool/assessment/integration/helper/integrated'), (1, 'samigo-services/src/java/org/sakaiproject/tool/assessment/integration/helper/standalone'), (1, 'samigo-services/src/java/org/sakaiproject/tool/assessment/shared/impl/grading'), (1, 'score.mail.umich.edu'), (1, 'section'), (1, 'send'), (1, 'service/api/src/java/org/sakaiproject/service/gradebook/shared'), (1, 'service/impl/src/java/org/sakaiproject/component/gradebook'), (1, 'show'), (1, 'site-manage'), (1, 'site-manage/branches/sakai_2-4-x/site-manage-tool/tool/src/java/org/sakaiproject/site/tool'), (1, 'site-manage/branches/sakai_2-4-x/site-manage-tool/tool/src/java/org/sakaiproject/site/tool/SiteAction.java'), (1, 'site-manage/branches/sakai_2-5-x/site-manage-tool/tool/src/webapp/vm/sitesetup'), (1, 'site-manage/branches/sakai_2-5-x/site-manage-tool/tool/src/webapp/vm/sitesetup/chef_site-siteInfo-list.vm'), (1, 'site-manage/trunk/site-manage-tool/tool/src/java/org/sakaiproject/site/tool/SiteAction.java'), (1, 'site-manage/trunk/site-manage-tool/tool/src/webapp/vm/sitesetup/chef_site-siteInfo-list.vm'), (1, 'site-manage/trunk/site-manage-tool/tool/src:'), (1, 'site.upd,'), (1, 'site.upd.grp.mbrship'), (1, 'site.upd.site.mbrship'), (1, 'site/trunk/site-tool/tool/src/bundle'), (1, 'site/trunk/site-tool/tool/src/bundle/admin.properties'), (1, 'stack'), (1, 'state'), (1, 'synchronize'), (1, 'take'), (1, 'than'), (1, 'there'), (1, 'to)'), (1, 'trace'), (1, 'ui/src/java/org/sakaiproject/tool/gradebook/ui/helpers/beans'), (1, 'ui/src/java/org/sakaiproject/tool/gradebook/ui/helpers/entity'), (1, 'ui/src/java/org/sakaiproject/tool/gradebook/ui/helpers/params'), (1, 'ui/src/java/org/sakaiproject/tool/gradebook/ui/helpers/producers'), (1, 'ui/src/webapp/WEB-INF'), (1, 'ui/src/webapp/WEB-INF/bundle'), (1, 'ui/src/webapp/content/templates'), (1, 'update'), (1, 'use'), (1, 'util'), (1, 'validation'), (1, 'way'), (1, 'web/trunk/web-tool/tool/src/bundle'), (1, 'web/trunk/web-tool/tool/src/bundle/iframe.properties'), (1, 'webapp/WEB-INF'), (1, 'webapp/WEB-INF/bundle'), (1, 'work'), (1, 'yourself.'), (2, '\"All'), (2, '(Wed,'), (2, '(creepshow.mr.itd.umich.edu'), (2, '(eyewitness.mr.itd.umich.edu'), (2, '(firestarter.mr.itd.umich.edu'), (2, '(galaxyquest.mr.itd.umich.edu'), (2, '(guys.mr.itd.umich.edu'), (2, '(icestorm.mr.itd.umich.edu'), (2, '-c'), (2, '0.6959'), (2, '0.7002'), (2, '0.7556'), (2, '0.7605'), (2, '04:05:53'), (2, '04:32:02'), (2, '09:03:51'), (2, '09:07:04'), (2, '09:12:18'), (2, '10:17:43'), (2, '11:09:14'), (2, '12'), (2, '12:01:53'), (2, '14:48:39'), (2, '15:03:15'), (2, '2-5-x'), (2, '20'), (2, '2007-12-20'), (2, '21:23:24'), (2, '23:10:10'), (2, '35014'), (2, '39403'), (2, '611'), (2, 'A'), (2, 'AB'), (2, 'C'), (2, 'D'), (2, 'Fix'), (2, 'Grades\"'), (2, 'Info'), (2, 'Removed:'), (2, 'SAK-12180'), (2, 'SAK-12228'), (2, 'SAK-9882:'), (2, 'Sat'), (2, 'Site'), (2, \"Xingtang's\"), (2, '[141.211.14.76])'), (2, '[141.211.14.83])'), (2, '[141.211.14.84])'), (2, '[141.211.93.142])'), (2, '[141.211.93.145])'), (2, '[141.211.93.149])'), (2, 'against'), (2, 'and'), (2, 'anniehall.mr.itd.umich.edu'), (2, 'any'), (2, 'app/ui/src/java/org/sakaiproject/tool/gradebook/ui/RosterBean.java'), (2, 'branch:'), (2, 'build'), (2, 'carrie.mr.itd.umich.edu'), (2, 'cc'), (2, 'clarify'), (2, 'conflict'), (2, 'css'), (2, \"doesn't\"), (2, 'dreamcatcher.mr.itd.umich.edu'), (2, 'gb'), (2, 'ghostbusters.mr.itd.umich.edu'), (2, 'grade'), (2, 'gradebook/branches/oncourse_2-4-2/app/ui/src/java/org/sakaiproject/tool/gradebook/ui'), (2, 'gradebook/branches/oncourse_2-4-2/app/ui/src/java/org/sakaiproject/tool/gradebook/ui/RosterBean.java'), (2, 'gradebook/trunk/app/business/src/java/org/sakaiproject/tool/gradebook/business/impl/GradebookManagerHibernateImpl.java'), (2, 'gradebook/trunk/app/ui/src/java/org/sakaiproject/tool/gradebook/ui/helpers/beans/AssignmentGradeRecordBean.java'), (2, 'gradebook/trunk/app/ui/src/java/org/sakaiproject/tool/gradebook/ui/helpers/producers/GradeGradebookItemProducer.java'), (2, 'gradebook/trunk/app/ui/src/webapp/WEB-INF/applicationContext.xml'), (2, 'gradebook/trunk/app/ui/src/webapp/WEB-INF/bundle/messages.properties'), (2, 'gradebook/trunk/app/ui/src/webapp/WEB-INF/requestContext.xml'), (2, 'helper'), (2, 'https://source.sakaiproject.org/svn/msgcntr/trunk'), (2, 'https://source.sakaiproject.org/svn/polls/trunk'), (2, 'hu2@iupui.edu'), (2, 'if'), (2, 'implmented'), (2, 'into'), (2, 'it.mr.itd.umich.edu'), (2, 'java/org/sakaiproject/site/tool'), (2, 'josrodri@iupui.edu'), (2, 'list'), (2, 'messageforums-app/src/java/org/sakaiproject/tool/messageforums/PrivateMessagesTool.java'), (2, 'msgcntr/trunk/messageforums-app/src/java/org/sakaiproject/tool/messageforums/PrivateMessagesTool.java'), (2, 'needs'), (2, 'not'), (2, 'on'), (2, 'option'), (2, 'page'), (2, 'permissions'), (2, 'podcasts'), (2, 'podcasts/'), (2, 'podcasts/branches/sakai_2-5-x/podcasts-app/src/webapp/css/podcaster.css'), (2, 'podcasts/branches/sakai_2-5-x/podcasts-app/src/webapp/podcasts/podMain.jsp'), (2, 'podcasts/branches/sakai_2-5-x/podcasts-app/src/webapp:'), (2, 'podcasts/podcasts-app/src/webapp/css/podcaster.css'), (2, 'podcasts/podcasts-app/src/webapp/podcasts/podMain.jsp'), (2, 'polls/branches/sakai_2-5-x/tool/src/java/org/sakaiproject/poll/tool/evolvers/SakaiFCKTextEvolver.java'), (2, 'polls/tool/src/webapp/WEB-INF/requestContext.xml'), (2, 'r39753'), (2, 'refactored'), (2, 'reply'), (2, 'shining.mr.itd.umich.edu'), (2, 'should'), (2, 'sugested'), (2, 'tadpole.mr.itd.umich.edu'), (2, 'tested'), (2, 'text'), (2, 'tool/src/java/org/sakaiproject/poll/tool'), (2, 'tool/src/java/org/sakaiproject/poll/tool/evolvers'), (2, 'tool/src/webapp/WEB-INF'), (2, 'trunk'), (2, 'ui'), (2, 'unmerge'), (2, 'well'), (2, 'workaround'), (2, 'workinggirl.mr.itd.umich.edu'), (3, '(salemslot.mr.itd.umich.edu'), (3, '(unused)'), (3, '+0200'), (3, '.'), (3, '04:47:30'), (3, '05'), (3, '06:06:47'), (3, '07:00:42'), (3, '1'), (3, '10:02:01'), (3, '10:15:57'), (3, '10:17:42'), (3, '10:37:06'), (3, '11:08:39'), (3, '11:10:05'), (3, '11:11:01'), (3, '11:33:06'), (3, '11:35:26'), (3, '15:01:38'), (3, '15:44:40'), (3, '16:09:02'), (3, '16:22:15'), (3, '16:27:30'), (3, '16:33:03'), (3, '17:05:14'), (3, '17:16:43'), (3, '18:08:57'), (3, '19:23:51'), (3, '19:51:21'), (3, '[141.211.14.39])'), (3, '[141.211.14.58])'), (3, '[141.211.14.90])'), (3, '[141.211.14.91])'), (3, '[141.211.14.97])'), (3, 'bspace/site-manage/sakai_2-4-x/site-manage-tool/tool/src/bundle/sitesetupgeneric.properties'), (3, 'bspace/site-manage/sakai_2-4-x/site-manage-tool/tool/src:'), (3, 'bundle'), (3, 'commented'), (3, 'entries'), (3, 'faithful.mail.umich.edu'), (3, 'flawless.mail.umich.edu'), (3, 'jacknife.mail.umich.edu'), (3, 'left'), (3, 'line'), (3, 'moot'), (3, 'now'), (3, 'site'), (3, 'sleepers.mail.umich.edu'), (3, 'webapp/vm/sitesetup'), (3, 'when'), (4, '(holes.mr.itd.umich.edu'), (4, '04:07:34'), (4, '04:33:44'), (4, '04:49:08'), (4, '06:08:27'), (4, '07:02:32'), (4, '09:05:31'), (4, '09:14:16'), (4, '10:04:14'), (4, '10:38:42'), (4, '11:10:22'), (4, '11:12:37'), (4, '11:35:08'), (4, '11:37:30'), (4, '14:50:18'), (4, '15:03:18'), (4, '15:46:24'), (4, '16:10:39'), (4, '16:23:48'), (4, '16:29:07'), (4, '16:34:40'), (4, '17:07:00'), (4, '17:18:23'), (4, '18:10:48'), (4, 'Added:'), (4, '[141.211.14.79])'), (4, 'antranig@caret.cam.ac.uk'), (4, 'as'), (4, 'be'), (4, 'creepshow.mr.itd.umich.edu'), (4, 'dhorwitz@david-horwitz-6:~/branchManagemnt/sakai_2-5-x>'), (4, 'eyewitness.mr.itd.umich.edu'), (4, 'firestarter.mr.itd.umich.edu'), (4, 'fix'), (4, 'galaxyquest.mr.itd.umich.edu'), (4, 'gopal.ramasammycook@gmail.com'), (4, 'guys.mr.itd.umich.edu'), (4, 'https://source.sakaiproject.org/svn/gradebook/trunk'), (4, 'https://source.sakaiproject.org/svn/podcasts/trunk'), (4, 'icestorm.mr.itd.umich.edu'), (4, 'lines'), (4, 'of'), (4, 'ray@media.berkeley.edu'), (4, 'tool'), (4, 'user'), (5, '-r'), (5, '11:11:03'), (5, '11:11:52'), (5, 'Dec'), (5, '[141.211.14.25])'), (5, '[141.211.14.46])'), (5, 'fan.mail.umich.edu'), (5, 'panther.mail.umich.edu'), (6, '2007)'), (6, '2008-01-03'), (6, 'salemslot.mr.itd.umich.edu'), (6, 'wagnermr@iupui.edu'), (7, 'log'), (8, '(Thu,'), (8, 'a'), (8, 'holes.mr.itd.umich.edu'), (8, 'rjlowe@iupui.edu'), (8, 'stephen.marquard@uct.ac.za'), (9, 'Sat,'), (10, '5'), (12, 'Thu'), (12, 'gsilver@umich.edu'), (12, 'louis@media.berkeley.edu'), (12, 'merge'), (14, '------------------------------------------------------------------------'), (14, 'U'), (17, 'david.horwitz@uct.ac.za'), (17, 'zqian@umich.edu'), (18, '03'), (20, 'cwen@iupui.edu'), (21, '2008-01-04'), (21, '|'), (22, '(Fri,'), (22, 'in'), (27, '()'), (27, '(8.12.11.20060308/8.12.11)'), (27, '(8.12.11.20060308/8.12.11/Submit)'), (27, '(JAMES'), (27, '([194.35.219.182])'), (27, '([unix'), (27, '(app1.prod.collab.uhi.ac.uk'), (27, '(from'), (27, '(https://collab.sakaiproject.org/portal)'), (27, '(mail.umich.edu'), (27, '(nakamura.uits.iupui.edu'), (27, '----------------------'), (27, '-f'), (27, '0.0000'), (27, '1.0'), (27, '2.1.3)'), (27, '2.3'), (27, '7bit'), (27, ';'), (27, '<postmaster@collab.sakaiproject.org>'), (27, '>'), (27, 'Author:'), (27, 'BY'), (27, 'CMU'), (27, 'Collab'), (27, 'Content-Transfer-Encoding:'), (27, 'Content-Type:'), (27, 'Details:'), (27, 'FROM'), (27, 'From'), (27, 'From:'), (27, 'Innocent'), (27, 'Log:'), (27, 'Message-ID:'), (27, 'Mime-Version:'), (27, 'Modified:'), (27, 'My'), (27, 'Preferences.'), (27, 'Return-Path:'), (27, 'Revision:'), (27, 'Server'), (27, 'Sieve'), (27, 'Subject:'), (27, 'This'), (27, 'To:'), (27, 'Workspace'), (27, 'X-Authentication-Warning:'), (27, 'X-Content-Type-Message-Body:'), (27, 'X-Content-Type-Outer-Envelope:'), (27, 'X-DSPAM-Confidence:'), (27, 'X-DSPAM-Probability:'), (27, 'X-DSPAM-Processed:'), (27, 'X-DSPAM-Result:'), (27, 'X-Sieve:'), (27, 'You'), (27, '[134.68.220.122])'), (27, '[194.35.219.184])'), (27, '[sakai]'), (27, 'apache'), (27, 'apache@localhost)'), (27, 'at'), (27, 'automatic'), (27, 'can'), (27, 'commit:'), (27, 'frankenstein.mail.umich.edu'), (27, 'how'), (27, 'mail.umich.edu'), (27, 'modify'), (27, 'nakamura.uits.iupui.edu:'), (27, 'notification'), (27, 'notifications'), (27, 'prod.collab.uhi.ac.uk'), (27, 'receive'), (27, 'sender'), (27, 'sent'), (27, 'set'), (27, 'shmi.uhi.ac.uk'), (27, 'site.'), (27, 'socket])'), (27, 'source@collab.sakaiproject.org'), (27, 'source@collab.sakaiproject.org;'), (27, 'using'), (27, 'v2.2.12)'), (27, 'v2.3.8)'), (27, 'was'), (27, 'you'), (28, '2008)'), (28, 'Sakai'), (28, 'Source'), (28, 'message'), (29, 'New'), (32, 'the'), (35, '-'), (40, 'Fri'), (43, 'svn'), (43, 'to'), (51, 'Thu,'), (54, '(Cyrus'), (54, '(Postfix)'), (54, '(localhost'), (54, 'Date:'), (54, 'ID'), (54, 'LMTPA;'), (54, 'SMTP'), (54, '[127.0.0.1])'), (54, 'murder'), (61, '04'), (61, '3'), (81, '(GMT)'), (81, '+0000'), (81, '<source@collab.sakaiproject.org>;'), (81, 'charset=UTF-8'), (81, 'text/plain;'), (108, 'ESMTP'), (108, 'nakamura.uits.iupui.edu'), (108, 'paploo.uhi.ac.uk'), (118, 'for'), (136, 'id'), (183, 'Fri,'), (194, 'with'), (203, '4'), (218, 'from'), (219, '-0500'), (243, 'Received:'), (245, 'by'), (324, '2008'), (352, 'Jan')]\n"
     ]
    }
   ],
   "source": [
    "# The top 10 most common words\n",
    "fhand = open('word.txt')\n",
    "counts = dict()\n",
    "for line in fhand:\n",
    "    words = line.split()\n",
    "    for word in words:\n",
    "        counts[word] = counts.get(word, 0) + 1\n",
    "# created a temporary list\n",
    "lst = list()\n",
    "for key, val in counts.items():\n",
    "    newtup = (val, key)\n",
    "    lst.append(newtup)    \n",
    "lst = sorted(lst, reverse=True)\n",
    "# reverse them into normal order\n",
    "for val,key in lst[:10] :\n",
    "    print(key, val)   \n",
    "#### Advanced of doing above(through the introduction of\n",
    "#### list comprehension\n",
    "print(sorted([(val,key) for key,val in counts.items()]))"
   ]
  },
  {
   "cell_type": "code",
   "execution_count": 53,
   "metadata": {},
   "outputs": [
    {
     "data": {
      "text/plain": [
       "1"
      ]
     },
     "execution_count": 53,
     "metadata": {},
     "output_type": "execute_result"
    }
   ],
   "source": [
    "y = (3, 4)\n",
    "y.count(4)"
   ]
  },
  {
   "cell_type": "code",
   "execution_count": null,
   "metadata": {},
   "outputs": [
    {
     "name": "stdout",
     "output_type": "stream",
     "text": [
      "Enter file:\n",
      "04 3\n",
      "06 1\n",
      "07 1\n",
      "09 2\n",
      "10 3\n",
      "11 6\n",
      "14 1\n",
      "15 2\n",
      "16 4\n",
      "17 2\n",
      "18 1\n",
      "19 1\n"
     ]
    }
   ],
   "source": [
    "# count the frequency of certain words in a txt\n",
    "name = input('Enter file:')\n",
    "counts = dict()\n",
    "if len(name) < 1 : name = 'word.txt'\n",
    "handle = open(name)\n",
    "for line in handle :\n",
    "    piece = line.split()\n",
    "    if len(piece) == 0 : continue\n",
    "    if piece[0] != 'From' : continue\n",
    "    t = piece[5]\n",
    "    fst = t.split(':')\n",
    "    counts[fst[0]] = counts.get(fst[0], 0) + 1\n",
    "scounts = sorted(counts.items())\n",
    "for (v,k) in scounts:\n",
    "    print(v,k)        "
   ]
  },
  {
   "cell_type": "code",
   "execution_count": 70,
   "metadata": {},
   "outputs": [
    {
     "name": "stdout",
     "output_type": "stream",
     "text": [
      "['sdjhf', 'lsdjfh']\n"
     ]
    }
   ],
   "source": []
  },
  {
   "cell_type": "code",
   "execution_count": null,
   "metadata": {},
   "outputs": [],
   "source": []
  }
 ],
 "metadata": {
  "kernelspec": {
   "display_name": "Python 3",
   "language": "python",
   "name": "python3"
  },
  "language_info": {
   "codemirror_mode": {
    "name": "ipython",
    "version": 3
   },
   "file_extension": ".py",
   "mimetype": "text/x-python",
   "name": "python",
   "nbconvert_exporter": "python",
   "pygments_lexer": "ipython3",
   "version": "3.7.2"
  }
 },
 "nbformat": 4,
 "nbformat_minor": 2
}
