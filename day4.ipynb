{
 "cells": [
  {
   "cell_type": "code",
   "execution_count": null,
   "metadata": {},
   "outputs": [
    {
     "name": "stdout",
     "output_type": "stream",
     "text": [
      "6\n"
     ]
    }
   ],
   "source": [
    "# len function\n",
    "fruit = 'banana'\n",
    "x = len(fruit)\n",
    "print(x)"
   ]
  },
  {
   "cell_type": "code",
   "execution_count": 12,
   "metadata": {},
   "outputs": [
    {
     "name": "stdout",
     "output_type": "stream",
     "text": [
      "0 b\n",
      "1 a\n",
      "2 n\n",
      "3 a\n",
      "4 n\n",
      "5 a\n"
     ]
    }
   ],
   "source": [
    "# looping through strings 1\n",
    "fruit = 'banana'\n",
    "index = 0\n",
    "while index < len(fruit):\n",
    "    letter = fruit[index]\n",
    "    print(index, letter)\n",
    "    index = index + 1 "
   ]
  },
  {
   "cell_type": "code",
   "execution_count": 14,
   "metadata": {},
   "outputs": [
    {
     "name": "stdout",
     "output_type": "stream",
     "text": [
      "b\n",
      "a\n",
      "n\n",
      "a\n",
      "n\n",
      "a\n"
     ]
    }
   ],
   "source": [
    "# looping through strings 2: better and more elegant\n",
    "fruit = 'banana'\n",
    "for letter in fruit:\n",
    "    print(letter)"
   ]
  },
  {
   "cell_type": "code",
   "execution_count": 18,
   "metadata": {},
   "outputs": [
    {
     "name": "stdout",
     "output_type": "stream",
     "text": [
      "3\n"
     ]
    }
   ],
   "source": [
    "# counting the num of a in banana\n",
    "fruit = 'banana'\n",
    "count = 0\n",
    "for letter in fruit:\n",
    "    if letter == 'a':\n",
    "        count = count + 1\n",
    "print(count)"
   ]
  },
  {
   "cell_type": "code",
   "execution_count": 20,
   "metadata": {},
   "outputs": [
    {
     "name": "stdout",
     "output_type": "stream",
     "text": [
      "Mont\n",
      "Python\n"
     ]
    }
   ],
   "source": [
    "# slicing strings\n",
    "s = 'Monty Python'\n",
    "## up to is not including\n",
    "print(s[0:4])\n",
    "## beyond the range is forgived\n",
    "print(s[6:93])"
   ]
  },
  {
   "cell_type": "code",
   "execution_count": 23,
   "metadata": {},
   "outputs": [
    {
     "name": "stdout",
     "output_type": "stream",
     "text": [
      "Found it!\n"
     ]
    }
   ],
   "source": [
    "# using in as logical operator\n",
    "fruit = 'banana'\n",
    "if 'a' in fruit:\n",
    "    print('Found it!')"
   ]
  },
  {
   "cell_type": "code",
   "execution_count": 24,
   "metadata": {},
   "outputs": [
    {
     "data": {
      "text/plain": [
       "True"
      ]
     },
     "execution_count": 24,
     "metadata": {},
     "output_type": "execute_result"
    }
   ],
   "source": [
    "# string conparision\n",
    "# only compare the first letter\n",
    "# upper case letter is smaller than the lower case letter"
   ]
  },
  {
   "cell_type": "code",
   "execution_count": 28,
   "metadata": {},
   "outputs": [
    {
     "name": "stdout",
     "output_type": "stream",
     "text": [
      "hello bob\n",
      "Hello Bob\n",
      "hello there\n"
     ]
    }
   ],
   "source": [
    "# string library\n",
    "greet = 'Hello Bob'\n",
    "zap = greet.lower()\n",
    "print(zap)\n",
    "print(greet)\n",
    "print('Hello There'.lower())"
   ]
  },
  {
   "cell_type": "code",
   "execution_count": 34,
   "metadata": {},
   "outputs": [
    {
     "name": "stdout",
     "output_type": "stream",
     "text": [
      "2\n",
      "Banana\n"
     ]
    }
   ],
   "source": [
    "# Searching a String\n",
    "fruit = 'banana'\n",
    "pos = fruit.find('na')\n",
    "print(pos)\n",
    "# Capitalize a string\n",
    "cap = fruit.capitalize()\n",
    "print(cap)"
   ]
  },
  {
   "cell_type": "code",
   "execution_count": 38,
   "metadata": {},
   "outputs": [
    {
     "name": "stdout",
     "output_type": "stream",
     "text": [
      "Hello shizhongcangyu\n",
      "Hellx hxngjiachi\n"
     ]
    }
   ],
   "source": [
    "# Search and replace \n",
    "greet = 'Hello hongjiachi'\n",
    "nstr_1 = greet.replace('hongjiachi','shizhongcangyu')\n",
    "print(nstr_1)\n",
    "nstr_2 = greet.replace('o','x')\n",
    "print(nstr_2)"
   ]
  },
  {
   "cell_type": "code",
   "execution_count": 41,
   "metadata": {},
   "outputs": [
    {
     "name": "stdout",
     "output_type": "stream",
     "text": [
      "Hello hongjiachi   \n",
      "   Hello hongjiachi\n",
      "Hello hongjiachi\n"
     ]
    }
   ],
   "source": [
    "# Stripping Whitespace\n",
    "greet = '   Hello hongjiachi   '\n",
    "strip_the_left_whitespace = greet.lstrip()\n",
    "print(strip_the_left_whitespace)\n",
    "strip_the_right_whitespace = greet.rstrip()\n",
    "print(strip_the_right_whitespace)\n",
    "strip_the_whitespace = greet.strip()\n",
    "print(strip_the_whitespace)"
   ]
  },
  {
   "cell_type": "code",
   "execution_count": 4,
   "metadata": {},
   "outputs": [
    {
     "data": {
      "text/plain": [
       "True"
      ]
     },
     "execution_count": 4,
     "metadata": {},
     "output_type": "execute_result"
    }
   ],
   "source": [
    "# Prefix\n",
    "line = 'Please have a nice day'\n",
    "line.startswith('Please')\n",
    "'Please'.startswith('P')\n",
    "#line.startswith('p')\n"
   ]
  },
  {
   "cell_type": "code",
   "execution_count": null,
   "metadata": {},
   "outputs": [
    {
     "name": "stdout",
     "output_type": "stream",
     "text": [
      "13\n",
      "23\n",
      "gmail.com\n"
     ]
    }
   ],
   "source": [
    "# Parsing and Extracting your email address!!!\n",
    "# From jayhoang.uofg@gmail.com Sun Jan 5 09:14:16 2019\n",
    "address = 'jayhoang.uofg@gmail.com Sun Jan 5 09:14:16 2019'\n",
    "atpos = address.find('@')\n",
    "print(atpos)\n",
    "sppos = address.find(' ', atpos)\n",
    "print(sppos)\n",
    "host = address[atpos+1 : sppos]\n",
    "print(host)"
   ]
  }
 ],
 "metadata": {
  "kernelspec": {
   "display_name": "Python 3",
   "language": "python",
   "name": "python3"
  },
  "language_info": {
   "codemirror_mode": {
    "name": "ipython",
    "version": 3
   },
   "file_extension": ".py",
   "mimetype": "text/x-python",
   "name": "python",
   "nbconvert_exporter": "python",
   "pygments_lexer": "ipython3",
   "version": "3.7.2"
  }
 },
 "nbformat": 4,
 "nbformat_minor": 1
}
