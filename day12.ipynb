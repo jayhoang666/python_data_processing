{
 "cells": [
  {
   "cell_type": "code",
   "execution_count": null,
   "metadata": {},
   "outputs": [],
   "source": [
    "# assignment for week 4 (Following links in HTML using beautifulSoup)\n",
    "# read the HTML, extract the href = values \n",
    "\n",
    "import urllib.request, urllib.parse, urllib.error\n",
    "import ssl\n",
    "url = input('Enter -')\n",
    "ctx = ssl.create_default_context()\n",
    "ctx.check_hostname = False\n",
    "ctx.verify_mode = ssl.CERT_NONE\n",
    "pos = int(input('Enter a position -')) - 1\n",
    "count = int(input('Enter repeating times -'))\n",
    "while count > 0:\n",
    "    html = urllib.request.urlopen(url, context=ctx).read()\n",
    "    soup = BeautifulSoup(html, 'html.parser')\n",
    "    tags = soup('a')\n",
    "    url = tags[pos].get('href', None)\n",
    "    count = count - 1\n",
    "       \n",
    "print('Retrieving:', url)\n",
    "pieces = str(url).split('_')\n",
    "fpieces = pieces[2].split('.')\n",
    "print('last name of the last page is', fpieces[0])\n"
   ]
  },
  {
   "cell_type": "code",
   "execution_count": null,
   "metadata": {},
   "outputs": [],
   "source": [
    "# Scraping Numbers from HTML using BeautifulSoup\n",
    "import urllib.request, urllib.parse, urllib.error\n",
    "import ssl\n",
    "ctx = ssl.create_default_context()\n",
    "ctx.check_hostname = False\n",
    "ctx.verify_mode = ssl.CERT_NONE\n",
    "url = input('Enter url: ')\n",
    "html = urllib.request.urlopen(url, context = ctx).read()\n",
    "soup = BeautifulSoup(html, 'html.parser')\n",
    "tags = soup('span')\n",
    "sum = 0\n",
    "for tag in tags:\n",
    "    sum = int(tag.text) + sum\n",
    "print(sum)   "
   ]
  },
  {
   "cell_type": "code",
   "execution_count": 73,
   "metadata": {},
   "outputs": [
    {
     "name": "stdout",
     "output_type": "stream",
     "text": [
      "Enter url : http://python-data.dr-chuck.net/known_by_Blanka.html \n",
      "Enter your repeating times :7\n",
      "Enter a position :18\n",
      "Retrieving http://python-data.dr-chuck.net/known_by_Bethlin.html\n",
      "Retrieving http://python-data.dr-chuck.net/known_by_Franklin.html\n",
      "Retrieving http://python-data.dr-chuck.net/known_by_Eubha.html\n",
      "Retrieving http://python-data.dr-chuck.net/known_by_Meili.html\n",
      "Retrieving http://python-data.dr-chuck.net/known_by_Fares.html\n",
      "Retrieving http://python-data.dr-chuck.net/known_by_Enis.html\n",
      "Retrieving http://python-data.dr-chuck.net/known_by_Leila.html\n",
      "Last name in sequence: Leila\n"
     ]
    }
   ],
   "source": [
    "import urllib.request, urllib.error,urllib.parse\n",
    "import ssl\n",
    "ctx = ssl.create_default_context()\n",
    "ctx.check_hostname = False \n",
    "ctx.verify_mode = ssl.CERT_NONE\n",
    "url = input('Enter url : ')\n",
    "count = int(input('Enter your repeating times :'))\n",
    "pos = int(input('Enter a position :')) - 1\n",
    "while count > 0:\n",
    "    html = urllib.request.urlopen(url, context = None).read()\n",
    "    soup = BeautifulSoup(html, 'html.parser')\n",
    "    tags = soup('a')\n",
    "    for tag in tags:\n",
    "        x = tag.get('href', None)\n",
    "    url = tags[pos].get('href', None)\n",
    "    print('Retrieving', url)\n",
    "    count = count - 1\n",
    "piece = str(url).split('_')\n",
    "fpiece = piece[2].split('.')\n",
    "print('Last name in sequence:', fpiece[0])\n",
    "    \n",
    "    \n"
   ]
  }
 ],
 "metadata": {
  "kernelspec": {
   "display_name": "Python 3",
   "language": "python",
   "name": "python3"
  },
  "language_info": {
   "codemirror_mode": {
    "name": "ipython",
    "version": 3
   },
   "file_extension": ".py",
   "mimetype": "text/x-python",
   "name": "python",
   "nbconvert_exporter": "python",
   "pygments_lexer": "ipython3",
   "version": "3.7.2"
  }
 },
 "nbformat": 4,
 "nbformat_minor": 2
}
