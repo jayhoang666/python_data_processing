{
 "cells": [
  {
   "cell_type": "code",
   "execution_count": null,
   "metadata": {},
   "outputs": [],
   "source": [
    "# using range in loop to greeting friends\n",
    "friends = ['xy', 'xjc', 'cxh', 'xyt']\n",
    "for friend in friends:\n",
    "    print('Happy new life:', friend)\n",
    "\n",
    "# or we can do it this way\n",
    "for i in range(len(friends)):\n",
    "    friend = friends[i]\n",
    "    print('Happy new life:', friend)\n",
    "    "
   ]
  },
  {
   "cell_type": "code",
   "execution_count": 3,
   "metadata": {},
   "outputs": [
    {
     "name": "stdout",
     "output_type": "stream",
     "text": [
      "Enter a number:4\n",
      "Enter a number:2\n",
      "Enter a number:5\n",
      "Enter a number:6\n",
      "Enter a number:done\n",
      "Enter a number:2\n",
      "Enter a number:done\n"
     ]
    }
   ],
   "source": [
    "# looping to find up the average \n",
    "total = 0\n",
    "count = 0\n",
    "while True:\n",
    "    inp = input('Enter a number:')\n",
    "    if inp == 'done' : break\n",
    "    value = float(inp)\n",
    "    total = total + value\n",
    "    count = count + 1\n",
    "average = total / count\n",
    "print('Average:',average)\n",
    "# using list to do it (way more easy)\n",
    "numlist = list()\n",
    "while True:\n",
    "    inp = input('Enter a number:')\n",
    "    if inp == 'done' : break\n",
    "    value == float(inp)\n",
    "    numlist.append(value)\n",
    "average = sum(numlist)/len(numlist)"
   ]
  },
  {
   "cell_type": "code",
   "execution_count": 10,
   "metadata": {},
   "outputs": [
    {
     "name": "stdout",
     "output_type": "stream",
     "text": [
      "jayhoang.uofg@gmail.com\n",
      "['jayhoang.uofg', 'gmail.com']\n",
      "gmail.com\n"
     ]
    }
   ],
   "source": [
    "# using split to search and extract str in a line\n",
    "# way more convenient, because you no longer need to\n",
    "# search a lot of pos\n",
    "fhand = open('word.txt')\n",
    "for line in fhand:\n",
    "    line = line.rstrip()\n",
    "    if not line.startswith('From '): continue\n",
    "    words = line.split()\n",
    "    print(words[1])\n",
    "# double split to further parse the address\n",
    "    email = words[1]\n",
    "    pieces = email.split('@')\n",
    "    print(pieces)\n",
    "    print(pieces[1])"
   ]
  },
  {
   "cell_type": "code",
   "execution_count": 58,
   "metadata": {},
   "outputs": [
    {
     "name": "stdout",
     "output_type": "stream",
     "text": [
      "Enter file name:word.txt\n",
      "['Arise', 'But', 'It', 'Juliet', 'Who', 'already', 'and', 'breaks', 'east', 'envious', 'fair', 'grief', 'is', 'kill', 'light', 'moon', 'pale', 'sick', 'soft', 'sun', 'the', 'through', 'what', 'window', 'with', 'yonder']\n"
     ]
    }
   ],
   "source": [
    "# appending assignment\n",
    "fname = input('Enter file name:')\n",
    "fh = open(fname)\n",
    "lst = list()\n",
    "i = 0\n",
    "for line in fh:\n",
    "    piece = line.split()\n",
    "    for word in piece:\n",
    "           if not word in lst:\n",
    "                lst.append(word)\n",
    "lst.sort()\n",
    "print(lst)"
   ]
  },
  {
   "cell_type": "code",
   "execution_count": 68,
   "metadata": {},
   "outputs": [
    {
     "name": "stdout",
     "output_type": "stream",
     "text": [
      "Enter file name: word.txt\n",
      "stephen.marquard@uct.ac.za\n",
      "louis@media.berkeley.edu\n",
      "zqian@umich.edu\n",
      "rjlowe@iupui.edu\n",
      "zqian@umich.edu\n",
      "rjlowe@iupui.edu\n",
      "cwen@iupui.edu\n",
      "cwen@iupui.edu\n",
      "gsilver@umich.edu\n",
      "gsilver@umich.edu\n",
      "zqian@umich.edu\n",
      "gsilver@umich.edu\n",
      "wagnermr@iupui.edu\n",
      "zqian@umich.edu\n",
      "antranig@caret.cam.ac.uk\n",
      "gopal.ramasammycook@gmail.com\n",
      "david.horwitz@uct.ac.za\n",
      "david.horwitz@uct.ac.za\n",
      "david.horwitz@uct.ac.za\n",
      "david.horwitz@uct.ac.za\n",
      "stephen.marquard@uct.ac.za\n",
      "louis@media.berkeley.edu\n",
      "louis@media.berkeley.edu\n",
      "ray@media.berkeley.edu\n",
      "cwen@iupui.edu\n",
      "cwen@iupui.edu\n",
      "cwen@iupui.edu\n",
      "There were 27 lines\n"
     ]
    }
   ],
   "source": [
    "# parsing assignment(using split)\n",
    "fname = input('Enter file name: ')\n",
    "fh = open(fname)\n",
    "count = 0\n",
    "for line in fh:\n",
    "    line = line.rstrip()\n",
    "    piece = line.split()\n",
    "    # guardian\n",
    "    if len(piece) < 1:\n",
    "        continue\n",
    "    if piece[0] != 'From' :\n",
    "        continue\n",
    "    print(piece[1])\n",
    "    count = count + 1\n",
    "print('There were', count, 'lines')"
   ]
  },
  {
   "cell_type": "code",
   "execution_count": 74,
   "metadata": {},
   "outputs": [
    {
     "name": "stdout",
     "output_type": "stream",
     "text": [
      "Enter file name: word.txt\n",
      "stephen.marquard@uct.ac.za\n",
      "stephen.marquard@uct.ac.za\n",
      "louis@media.berkeley.edu\n",
      "louis@media.berkeley.edu\n",
      "zqian@umich.edu\n",
      "zqian@umich.edu\n",
      "rjlowe@iupui.edu\n",
      "rjlowe@iupui.edu\n",
      "zqian@umich.edu\n",
      "zqian@umich.edu\n",
      "rjlowe@iupui.edu\n",
      "rjlowe@iupui.edu\n",
      "cwen@iupui.edu\n",
      "cwen@iupui.edu\n",
      "cwen@iupui.edu\n",
      "cwen@iupui.edu\n",
      "gsilver@umich.edu\n",
      "gsilver@umich.edu\n",
      "gsilver@umich.edu\n",
      "gsilver@umich.edu\n",
      "zqian@umich.edu\n",
      "zqian@umich.edu\n",
      "gsilver@umich.edu\n",
      "gsilver@umich.edu\n",
      "wagnermr@iupui.edu\n",
      "wagnermr@iupui.edu\n",
      "zqian@umich.edu\n",
      "zqian@umich.edu\n",
      "antranig@caret.cam.ac.uk\n",
      "antranig@caret.cam.ac.uk\n",
      "gopal.ramasammycook@gmail.com\n",
      "gopal.ramasammycook@gmail.com\n",
      "david.horwitz@uct.ac.za\n",
      "david.horwitz@uct.ac.za\n",
      "david.horwitz@uct.ac.za\n",
      "david.horwitz@uct.ac.za\n",
      "david.horwitz@uct.ac.za\n",
      "david.horwitz@uct.ac.za\n",
      "david.horwitz@uct.ac.za\n",
      "david.horwitz@uct.ac.za\n",
      "stephen.marquard@uct.ac.za\n",
      "stephen.marquard@uct.ac.za\n",
      "louis@media.berkeley.edu\n",
      "louis@media.berkeley.edu\n",
      "louis@media.berkeley.edu\n",
      "louis@media.berkeley.edu\n",
      "ray@media.berkeley.edu\n",
      "ray@media.berkeley.edu\n",
      "cwen@iupui.edu\n",
      "cwen@iupui.edu\n",
      "cwen@iupui.edu\n",
      "cwen@iupui.edu\n",
      "cwen@iupui.edu\n",
      "cwen@iupui.edu\n",
      "There were 54 lines\n"
     ]
    }
   ],
   "source": [
    "# parsing assignment(using split)\n",
    "fname = input('Enter file name: ')\n",
    "fh = open(fname)\n",
    "count = 0\n",
    "for line in fh:\n",
    "    piece = line.split()\n",
    "    # why the output double is because of this following line\n",
    "    # the reason is not found yet!\n",
    "    if len(piece) < 1:\n",
    "        continue\n",
    "    if not line.startswith('From'):\n",
    "        continue\n",
    "    print(piece[1])\n",
    "    count = count + 1\n",
    "print('There were', count, 'lines')\n"
   ]
  },
  {
   "cell_type": "code",
   "execution_count": null,
   "metadata": {},
   "outputs": [],
   "source": []
  }
 ],
 "metadata": {
  "kernelspec": {
   "display_name": "Python 3",
   "language": "python",
   "name": "python3"
  },
  "language_info": {
   "codemirror_mode": {
    "name": "ipython",
    "version": 3
   },
   "file_extension": ".py",
   "mimetype": "text/x-python",
   "name": "python",
   "nbconvert_exporter": "python",
   "pygments_lexer": "ipython3",
   "version": "3.7.2"
  }
 },
 "nbformat": 4,
 "nbformat_minor": 2
}
