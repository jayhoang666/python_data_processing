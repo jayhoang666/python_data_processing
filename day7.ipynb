{
 "cells": [
  {
   "cell_type": "code",
   "execution_count": 5,
   "metadata": {},
   "outputs": [
    {
     "name": "stdout",
     "output_type": "stream",
     "text": [
      "{'money': 94, 'candy': 34, 'salt': 32}\n",
      "34\n",
      "{'money': 94, 'candy': 37, 'salt': 32}\n"
     ]
    }
   ],
   "source": [
    "# first try in dictionary \n",
    "purse = dict()\n",
    "purse['money'] = 94\n",
    "purse['candy'] = 34\n",
    "purse['salt'] = 32\n",
    "print(purse)\n",
    "print(purse['candy'])\n",
    "purse['candy'] = purse['candy'] + 3\n",
    "print(purse)"
   ]
  },
  {
   "cell_type": "code",
   "execution_count": 12,
   "metadata": {},
   "outputs": [
    {
     "name": "stdout",
     "output_type": "stream",
     "text": [
      "{'xjc': 1, 'xy': 1, 'cxh': 1, 'xyt': 1}\n",
      "{'xjc': 1, 'xy': 1, 'cxh': 1, 'xyt': 1}\n"
     ]
    }
   ],
   "source": [
    "# count the number of items \n",
    "counts = dict()\n",
    "names = ['xjc', 'xy', 'cxh', 'xyt']\n",
    "for name in names:\n",
    "    if name not in counts:\n",
    "        counts[name] = 1\n",
    "    else:\n",
    "        counts[name] = count[name] + 1\n",
    "print(counts)\n",
    "\n",
    "# to simplify this process, we can use get\n",
    "# to provide a default value of zero when a key \n",
    "# not exist\n",
    "counts = dict()\n",
    "names = ['xjc', 'xy', 'cxh', 'xyt']\n",
    "for name in names:\n",
    "    counts[name] = counts.get(name, 0) + 1\n",
    "print(counts)"
   ]
  },
  {
   "cell_type": "code",
   "execution_count": null,
   "metadata": {},
   "outputs": [
    {
     "name": "stdout",
     "output_type": "stream",
     "text": [
      "Enter a line of text:\n",
      "YOU CANNOT ALWAYS FOCUS ON WHAT HAS GONE WRONG\n",
      "Counting...\n",
      "counts {'YOU': 1, 'CANNOT': 1, 'ALWAYS': 1, 'FOCUS': 1, 'ON': 1, 'WHAT': 1, 'HAS': 1, 'GONE': 1, 'WRONG': 1}\n"
     ]
    }
   ],
   "source": [
    "# using get and dict to count \n",
    "counts = dict()\n",
    "print('Enter a line of text:')\n",
    "line = input('')\n",
    "words = line.split()\n",
    "print('Counting...')\n",
    "for word in words:\n",
    "    counts[word] = counts.get(word, 0) + 1\n",
    "print('counts', counts)"
   ]
  },
  {
   "cell_type": "code",
   "execution_count": 16,
   "metadata": {},
   "outputs": [
    {
     "name": "stdout",
     "output_type": "stream",
     "text": [
      "xy : 54\n",
      "xjc : 3\n",
      "cxh : 23\n"
     ]
    }
   ],
   "source": [
    "# keys attributes to keys not value\n",
    "counts = {'xy' : 54, 'xjc' : 3, 'cxh' : 23}\n",
    "for key in counts:\n",
    "    print(key,':', counts[key])"
   ]
  },
  {
   "cell_type": "code",
   "execution_count": 18,
   "metadata": {},
   "outputs": [
    {
     "name": "stdout",
     "output_type": "stream",
     "text": [
      "['xy', 'xjc', 'cxh']\n",
      "dict_keys(['xy', 'xjc', 'cxh'])\n",
      "dict_values([54, 3, 23])\n",
      "dict_items([('xy', 54), ('xjc', 3), ('cxh', 23)])\n"
     ]
    }
   ],
   "source": [
    "# jjj.keys) = list(jjj) while jjj.values() produce value\n",
    "# jjj.items() produce combinations of key and value  \n",
    "counts = {'xy' : 54, 'xjc' : 3, 'cxh' : 23}\n",
    "print(list(counts))\n",
    "print(counts.keys())\n",
    "print(counts.values())\n",
    "print(counts.items())"
   ]
  },
  {
   "cell_type": "code",
   "execution_count": 20,
   "metadata": {},
   "outputs": [
    {
     "name": "stdout",
     "output_type": "stream",
     "text": [
      "xy 54\n",
      "xjc 3\n",
      "cxh 23\n"
     ]
    }
   ],
   "source": [
    "# two iteration variables\n",
    "counts = {'xy' : 54, 'xjc' : 3, 'cxh' : 23}\n",
    "for lz, ks in counts.items():\n",
    "    print(lz, ks)"
   ]
  },
  {
   "cell_type": "code",
   "execution_count": null,
   "metadata": {},
   "outputs": [],
   "source": [
    "# open a flie to count the number of words and find\n",
    "# the most frequent one\n",
    "name = input('Enter a file:')\n",
    "handle = open(name)\n",
    "counts = dict()\n",
    "for line in handle:\n",
    "    words = line.split()\n",
    "    for word in words:\n",
    "        counts[name] = counts.get(name, 0) + 1\n",
    "bigcount = None\n",
    "bigword = None\n",
    "for word,count in counts.items():\n",
    "    if bigcount == None or bigcount < count:\n",
    "        bigcount = count\n",
    "        bigword = word\n",
    "print(bigword, bigcount)"
   ]
  },
  {
   "cell_type": "code",
   "execution_count": 38,
   "metadata": {},
   "outputs": [
    {
     "name": "stdout",
     "output_type": "stream",
     "text": [
      "Enter file:\n",
      "cwen@iupui.edu 5\n"
     ]
    }
   ],
   "source": [
    "# figure out who has sent the greatest number of\n",
    "# messages (Assignment)\n",
    "name = input('Enter file:')\n",
    "counts = dict()\n",
    "if len(name) < 1 : name = 'word.txt'\n",
    "handle = open(name)\n",
    "for line in handle:\n",
    "    words = line.split()\n",
    "    if len(words) < 1: continue\n",
    "    if words[0] != 'From':continue\n",
    "    counts[words[1]] = counts.get( words[1], 0) + 1\n",
    "bigcount = None\n",
    "bigword = None\n",
    "for keys,values in counts.items():\n",
    "    if bigcount == None or bigcount < values:\n",
    "        bigcount = values\n",
    "        bigword = keys\n",
    "print(bigword, bigcount)   "
   ]
  },
  {
   "cell_type": "code",
   "execution_count": null,
   "metadata": {},
   "outputs": [],
   "source": []
  }
 ],
 "metadata": {
  "kernelspec": {
   "display_name": "Python 3",
   "language": "python",
   "name": "python3"
  },
  "language_info": {
   "codemirror_mode": {
    "name": "ipython",
    "version": 3
   },
   "file_extension": ".py",
   "mimetype": "text/x-python",
   "name": "python",
   "nbconvert_exporter": "python",
   "pygments_lexer": "ipython3",
   "version": "3.7.2"
  }
 },
 "nbformat": 4,
 "nbformat_minor": 2
}
