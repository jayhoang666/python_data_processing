{
 "cells": [
  {
   "cell_type": "code",
   "execution_count": null,
   "metadata": {},
   "outputs": [
    {
     "name": "stdout",
     "output_type": "stream",
     "text": [
      "Name: Chuck\n",
      "Atrr: yes\n",
      "User count: 1 [<Element 'user' at 0x1070c0138>]\n"
     ]
    }
   ],
   "source": [
    "# XML(extensible markup language) is the wire format (agreed intermetiate protoco)\n",
    "# serialization refers to the act of going from an internal\n",
    "# representation out to a sort of interchange format\n",
    "# XML VS JSON : XML is more old, complex and rigorous\n",
    "# while JSON(suits for python) is the lighter version\n",
    "# simple element(node) and complex element\n",
    "# XML purpose: to help imformation systems share structured data\n",
    "# SGML(Standard generalized markup): the precursor of XML and HTML\n",
    "# XML VS HTML:\n",
    "# same: outer tag; keys = quoted str in the begining tag\n",
    "# different: HTML have href = 'blah' following the keys = str\n",
    "# so HTML is like a more specified version of XML\n",
    "# XML as Trees and Paths\n",
    "# XML Schema: describe a contract in an acceptanle XML or \n",
    "# description of an legal format of an XML document (like a\n",
    "# rules in humanbeing interaction)\n",
    "# XML Validation = the act of taking an XML document and a Schema\n",
    "# Contract and then sending the valicador\n",
    "# many XML Schema Languages:\n",
    "# one of them: XSD -- From the World Wide Web Consortium\n",
    "# triple quoted str : potentially mutiple lines of str"
   ]
  },
  {
   "cell_type": "code",
   "execution_count": 9,
   "metadata": {},
   "outputs": [
    {
     "name": "stdout",
     "output_type": "stream",
     "text": [
      "Name: Chuck\n",
      "Atrr: yes\n",
      "[<Element 'user' at 0x1105d06d8>]\n",
      "User count: 1\n",
      "Name Chuck\n",
      "Id 001\n",
      "Attribute 2\n"
     ]
    }
   ],
   "source": [
    "# Parsing XML\n",
    "import xml.etree.ElementTree as ET\n",
    "data = '''<person>\n",
    "    <name>Chuck</name>\n",
    "    <phone type='intl'>\n",
    "        +1 734 303 4456\n",
    "      </phone>\n",
    "      <email hide='yes'/>\n",
    "    </person>'''\n",
    "\n",
    "tree = ET.fromstring(data)\n",
    "print('Name:',tree.find('name').text)\n",
    "print('Atrr:',tree.find('email').get('hide'))\n",
    "\n",
    "import xml.etree.ElementTree as ET\n",
    "input = '''<stuff>\n",
    "    <users>\n",
    "        <user x='2'>\n",
    "            <id>001</id>\n",
    "            <name>Chuck</name>\n",
    "        </user>\n",
    "    </users>\n",
    "</stuff>'''\n",
    "\n",
    "stuff = ET.fromstring(input)\n",
    "lst = stuff.findall('users/user')\n",
    "print(lst)\n",
    "print('User count:',len(lst))\n",
    "for item in lst:\n",
    "    print('Name', item.find('name').text)\n",
    "    print('Id', item.find('id').text)\n",
    "    print('Attribute', item.get('x'))"
   ]
  },
  {
   "cell_type": "code",
   "execution_count": 11,
   "metadata": {},
   "outputs": [
    {
     "name": "stdout",
     "output_type": "stream",
     "text": [
      "Enter a url:http://python-data.dr-chuck.net/comments_42.xml\n",
      "[<Element 'comment' at 0x103cbe2c8>, <Element 'comment' at 0x103cbe278>, <Element 'comment' at 0x103cbe048>, <Element 'comment' at 0x103cb75e8>, <Element 'comment' at 0x103cb7e58>, <Element 'comment' at 0x103cb7d68>, <Element 'comment' at 0x103cb7c78>, <Element 'comment' at 0x103cb7b88>, <Element 'comment' at 0x103cb7a98>, <Element 'comment' at 0x103cb79a8>, <Element 'comment' at 0x103cb78b8>, <Element 'comment' at 0x103cb77c8>, <Element 'comment' at 0x103cb76d8>, <Element 'comment' at 0x103cb7688>, <Element 'comment' at 0x103c22688>, <Element 'comment' at 0x103cb51d8>, <Element 'comment' at 0x103cb50e8>, <Element 'comment' at 0x103cb5048>, <Element 'comment' at 0x103c7f9a8>, <Element 'comment' at 0x103c7f688>, <Element 'comment' at 0x103c7fef8>, <Element 'comment' at 0x103c7fe08>, <Element 'comment' at 0x103c7fd18>, <Element 'comment' at 0x103c7fc28>, <Element 'comment' at 0x103c7fb38>, <Element 'comment' at 0x103c7fa48>, <Element 'comment' at 0x103c7f868>, <Element 'comment' at 0x103c7f958>, <Element 'comment' at 0x102babf98>, <Element 'comment' at 0x103cd75e8>, <Element 'comment' at 0x103cd76d8>, <Element 'comment' at 0x103cd77c8>, <Element 'comment' at 0x103cd78b8>, <Element 'comment' at 0x103cd79a8>, <Element 'comment' at 0x103cd7a98>, <Element 'comment' at 0x103cd7b88>, <Element 'comment' at 0x103cd7c78>, <Element 'comment' at 0x103cd7d68>, <Element 'comment' at 0x103cd7e58>, <Element 'comment' at 0x103cd7f48>, <Element 'comment' at 0x103ce2098>, <Element 'comment' at 0x103ce2188>, <Element 'comment' at 0x103ce2278>, <Element 'comment' at 0x103ce2368>, <Element 'comment' at 0x103ce2458>, <Element 'comment' at 0x103ce2548>, <Element 'comment' at 0x103ce2638>, <Element 'comment' at 0x103ce2728>, <Element 'comment' at 0x103ce2818>, <Element 'comment' at 0x103ce2908>]\n",
      "50\n",
      "Sum= count 50 2553\n"
     ]
    }
   ],
   "source": [
    "\n",
    "# In this assignment you will write a Python program somewhat similar to http://www.pythonlearn.com/code/geoxml.py. \n",
    "# The program will prompt for a URL, read the XML data from that URL using urllib and then parse and extract the \n",
    "# comment counts from the XML data, compute the sum of the numbers in the file.\n",
    "# We provide two files for this assignment. One is a sample file where we give you the sum for your testing and the \n",
    "#other is the actual data you need to process for the assignment.\n",
    "# Sample data: http://python-data.dr-chuck.net/comments_42.xml (Sum=2553)\n",
    "# Actual data: http://python-data.dr-chuck.net/comments_353536.xml (Sum ends with 90)\n",
    "# You do not need to save these files to your folder since your program will read the data directly from the URL. \n",
    "# Note: Each student will have a distinct data url for the assignment - so only use your own data url for analysis.\n",
    "\n",
    "import urllib.request, urllib.parse, urllib.error\n",
    "import xml.etree.ElementTree as ET\n",
    "import ssl\n",
    "\n",
    "ctx = ssl.create_default_context()\n",
    "ctx.check_hostname = False\n",
    "ctx.verify_mode = ssl.CERT_NONE\n",
    "\n",
    "url = input('Enter a url:')\n",
    "data = urllib.request.urlopen(url, context = ctx).read()\n",
    "tree = ET.fromstring(data)\n",
    "results = tree.findall('comments/comment')\n",
    "count = 0\n",
    "num = 0\n",
    "for item in results:\n",
    "    if len(item) == 0 : continue\n",
    "    num = int(item.find('count').text)  + num\n",
    "    count = count + 1\n",
    "print('Sum=', num)\n"
   ]
  },
  {
   "cell_type": "code",
   "execution_count": null,
   "metadata": {},
   "outputs": [],
   "source": []
  }
 ],
 "metadata": {
  "kernelspec": {
   "display_name": "Python 3",
   "language": "python",
   "name": "python3"
  },
  "language_info": {
   "codemirror_mode": {
    "name": "ipython",
    "version": 3
   },
   "file_extension": ".py",
   "mimetype": "text/x-python",
   "name": "python",
   "nbconvert_exporter": "python",
   "pygments_lexer": "ipython3",
   "version": "3.7.2"
  }
 },
 "nbformat": 4,
 "nbformat_minor": 2
}
